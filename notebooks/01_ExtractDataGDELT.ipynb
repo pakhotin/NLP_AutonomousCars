{
 "cells": [
  {
   "cell_type": "markdown",
   "metadata": {},
   "source": [
    "# Data from GDELT on Autonomus Vehicles"
   ]
  },
  {
   "cell_type": "markdown",
   "metadata": {},
   "source": [
    "## Extract News Articles"
   ]
  },
  {
   "cell_type": "markdown",
   "metadata": {},
   "source": [
    "**Import libraries:**"
   ]
  },
  {
   "cell_type": "code",
   "execution_count": 1,
   "metadata": {},
   "outputs": [
    {
     "name": "stdout",
     "output_type": "stream",
     "text": [
      "The history saving thread hit an unexpected error (DatabaseError('database disk image is malformed')).History will not be written to the database.\n"
     ]
    }
   ],
   "source": [
    "import gdelt\n",
    "import re\n",
    "import pandas as pd\n",
    "import requests\n",
    "from bs4 import BeautifulSoup"
   ]
  },
  {
   "cell_type": "markdown",
   "metadata": {},
   "source": [
    "**Read in input data from file queried through GDELT web interface:**"
   ]
  },
  {
   "cell_type": "code",
   "execution_count": 2,
   "metadata": {},
   "outputs": [],
   "source": [
    "df = pd.read_csv(\"../data/raw/20191209233601.19044.gkg.txt\", sep='\\t')"
   ]
  },
  {
   "cell_type": "code",
   "execution_count": 3,
   "metadata": {},
   "outputs": [
    {
     "data": {
      "text/html": [
       "<div>\n",
       "<style scoped>\n",
       "    .dataframe tbody tr th:only-of-type {\n",
       "        vertical-align: middle;\n",
       "    }\n",
       "\n",
       "    .dataframe tbody tr th {\n",
       "        vertical-align: top;\n",
       "    }\n",
       "\n",
       "    .dataframe thead th {\n",
       "        text-align: right;\n",
       "    }\n",
       "</style>\n",
       "<table border=\"1\" class=\"dataframe\">\n",
       "  <thead>\n",
       "    <tr style=\"text-align: right;\">\n",
       "      <th></th>\n",
       "      <th>Date</th>\n",
       "      <th>NumArticles</th>\n",
       "      <th>Counts</th>\n",
       "      <th>Themes</th>\n",
       "      <th>Locations</th>\n",
       "      <th>Persons</th>\n",
       "      <th>Organizations</th>\n",
       "      <th>ToneData</th>\n",
       "      <th>CAMEOEvents</th>\n",
       "      <th>Sources</th>\n",
       "      <th>SourceURLs</th>\n",
       "    </tr>\n",
       "  </thead>\n",
       "  <tbody>\n",
       "    <tr>\n",
       "      <th>0</th>\n",
       "      <td>20180301</td>\n",
       "      <td>1</td>\n",
       "      <td>NaN</td>\n",
       "      <td>WB_1921_PRIVATE_SECTOR_DEVELOPMENT;WB_405_BUSI...</td>\n",
       "      <td>1#China#CH#CH#35#105#CH;4#Shanghai, Shanghai, ...</td>\n",
       "      <td>robin li;lihong qin</td>\n",
       "      <td>motor corp ltd;information technology;xinhua;s...</td>\n",
       "      <td>0.873362445414847,2.18340611353712,1.310043668...</td>\n",
       "      <td>735029480</td>\n",
       "      <td>newsweek.com</td>\n",
       "      <td>http://www.newsweek.com/self-driving-cars-fina...</td>\n",
       "    </tr>\n",
       "    <tr>\n",
       "      <th>1</th>\n",
       "      <td>20180301</td>\n",
       "      <td>1</td>\n",
       "      <td>NaN</td>\n",
       "      <td>TAX_FNCACT;TAX_FNCACT_STUDENT;TAX_FNCACT_STUDE...</td>\n",
       "      <td>1#United Kingdom#UK#UK#54#-4#UK</td>\n",
       "      <td>andrew deakin</td>\n",
       "      <td>cardiff university</td>\n",
       "      <td>4.02476780185759,4.64396284829721,0.6191950464...</td>\n",
       "      <td>NaN</td>\n",
       "      <td>theengineer.co.uk</td>\n",
       "      <td>https://www.theengineer.co.uk/formula-student-...</td>\n",
       "    </tr>\n",
       "    <tr>\n",
       "      <th>2</th>\n",
       "      <td>20180301</td>\n",
       "      <td>1</td>\n",
       "      <td>NaN</td>\n",
       "      <td>TAX_FNCACT;TAX_FNCACT_PILOT;EPU_ECONOMY_HISTOR...</td>\n",
       "      <td>3#Miami, Florida, United States#US#USFL#25.774...</td>\n",
       "      <td>john kwant;sam abuelsamid;sherif marakby;carlo...</td>\n",
       "      <td>google;nissan motor co;ford motor co;consumer ...</td>\n",
       "      <td>0.812182741116751,2.23350253807107,1.421319796...</td>\n",
       "      <td>NaN</td>\n",
       "      <td>therepublic.com</td>\n",
       "      <td>http://www.therepublic.com/2018/02/28/us-ford-...</td>\n",
       "    </tr>\n",
       "    <tr>\n",
       "      <th>3</th>\n",
       "      <td>20180301</td>\n",
       "      <td>2</td>\n",
       "      <td>NaN</td>\n",
       "      <td>TAX_FNCACT;TAX_FNCACT_REGULATORS;PUBLIC_TRANSP...</td>\n",
       "      <td>3#Washington, Washington, United States#US#USD...</td>\n",
       "      <td>donald trump;derek kan;barack obama;elaine chao</td>\n",
       "      <td>railroad administration;transit administration...</td>\n",
       "      <td>0,1.34228187919463,1.34228187919463,2.68456375...</td>\n",
       "      <td>734827665,734827620,734827665,734827975,735120...</td>\n",
       "      <td>reuters.com;reuters.com</td>\n",
       "      <td>https://www.reuters.com/article/us-autos-selfd...</td>\n",
       "    </tr>\n",
       "    <tr>\n",
       "      <th>4</th>\n",
       "      <td>20180301</td>\n",
       "      <td>2</td>\n",
       "      <td>NaN</td>\n",
       "      <td>TAX_WORLDLANGUAGES;TAX_WORLDLANGUAGES_DEUTSCH;...</td>\n",
       "      <td>4#Shanghai, Shanghai, China#CH#CH23#31.2222#12...</td>\n",
       "      <td>li chungen;huang changjiang;deutsch fran</td>\n",
       "      <td>google;china tibet online china radio internat...</td>\n",
       "      <td>1.34328358208955,2.08955223880597,0.7462686567...</td>\n",
       "      <td>NaN</td>\n",
       "      <td>bjreview.com.cn;bjreview.com</td>\n",
       "      <td>http://www.bjreview.com.cn/./Latest_Headlines/...</td>\n",
       "    </tr>\n",
       "    <tr>\n",
       "      <th>...</th>\n",
       "      <td>...</td>\n",
       "      <td>...</td>\n",
       "      <td>...</td>\n",
       "      <td>...</td>\n",
       "      <td>...</td>\n",
       "      <td>...</td>\n",
       "      <td>...</td>\n",
       "      <td>...</td>\n",
       "      <td>...</td>\n",
       "      <td>...</td>\n",
       "      <td>...</td>\n",
       "    </tr>\n",
       "    <tr>\n",
       "      <th>4084</th>\n",
       "      <td>20180331</td>\n",
       "      <td>2</td>\n",
       "      <td>NaN</td>\n",
       "      <td>WB_845_LEGAL_AND_REGULATORY_FRAMEWORK;WB_696_P...</td>\n",
       "      <td>3#San Francisco, California, United States#US#...</td>\n",
       "      <td>NaN</td>\n",
       "      <td>trademark office</td>\n",
       "      <td>0,2.11640211640212,2.11640211640212,4.23280423...</td>\n",
       "      <td>NaN</td>\n",
       "      <td>daijiworld.com;canindia.com</td>\n",
       "      <td>http://daijiworld.com/news/newsDisplay.aspx?ne...</td>\n",
       "    </tr>\n",
       "    <tr>\n",
       "      <th>4085</th>\n",
       "      <td>20180331</td>\n",
       "      <td>1</td>\n",
       "      <td>NaN</td>\n",
       "      <td>MANMADE_DISASTER_IMPLIED;CRISISLEX_CRISISLEXRE...</td>\n",
       "      <td>2#Arizona, United States#US#USAZ#33.7712#-111....</td>\n",
       "      <td>mark dahncke;arnaud lagandr;santa clara;danny ...</td>\n",
       "      <td>instagram;volvo;nvidia;twitter;facebook;volksw...</td>\n",
       "      <td>-0.811123986095017,1.27462340672074,2.08574739...</td>\n",
       "      <td>743466101,743466102,743467752</td>\n",
       "      <td>fredericknewspost.com</td>\n",
       "      <td>https://www.fredericknewspost.com/public/ap/ne...</td>\n",
       "    </tr>\n",
       "    <tr>\n",
       "      <th>4086</th>\n",
       "      <td>20180331</td>\n",
       "      <td>1</td>\n",
       "      <td>KILL#5##2#Arizona, United States#US#USAZ#33.77...</td>\n",
       "      <td>MANMADE_DISASTER_IMPLIED;TAX_FNCACT;TAX_FNCACT...</td>\n",
       "      <td>2#Arizona, United States#US#USAZ#33.7712#-111....</td>\n",
       "      <td>eric risberg</td>\n",
       "      <td>stanford center;department of public health;au...</td>\n",
       "      <td>-3.30228619813717,2.54022015241321,5.842506350...</td>\n",
       "      <td>743587503,743588241</td>\n",
       "      <td>salon.com</td>\n",
       "      <td>https://www.salon.com/2018/03/31/the-everyday-...</td>\n",
       "    </tr>\n",
       "    <tr>\n",
       "      <th>4087</th>\n",
       "      <td>20180331</td>\n",
       "      <td>1</td>\n",
       "      <td>NaN</td>\n",
       "      <td>MANMADE_DISASTER_IMPLIED;EPU_ECONOMY_HISTORIC;...</td>\n",
       "      <td>2#Arizona, United States#US#USAZ#33.7712#-111....</td>\n",
       "      <td>alex davies</td>\n",
       "      <td>NaN</td>\n",
       "      <td>-8.16326530612245,0,8.16326530612245,8.1632653...</td>\n",
       "      <td>743576470,743577475</td>\n",
       "      <td>direktbroker.de</td>\n",
       "      <td>https://www.direktbroker.de/news/international...</td>\n",
       "    </tr>\n",
       "    <tr>\n",
       "      <th>4088</th>\n",
       "      <td>20180331</td>\n",
       "      <td>1</td>\n",
       "      <td>NaN</td>\n",
       "      <td>MANMADE_DISASTER_IMPLIED;KILL;CRISISLEX_T03_DE...</td>\n",
       "      <td>2#Arizona, United States#US#USAZ#33.7712#-111....</td>\n",
       "      <td>elaine herzberg</td>\n",
       "      <td>NaN</td>\n",
       "      <td>-1.3745704467354,1.71821305841924,3.0927835051...</td>\n",
       "      <td>NaN</td>\n",
       "      <td>carbuzz.com</td>\n",
       "      <td>https://carbuzz.com/news/self-driving-chevy-ti...</td>\n",
       "    </tr>\n",
       "  </tbody>\n",
       "</table>\n",
       "<p>4089 rows × 11 columns</p>\n",
       "</div>"
      ],
      "text/plain": [
       "          Date  NumArticles  \\\n",
       "0     20180301            1   \n",
       "1     20180301            1   \n",
       "2     20180301            1   \n",
       "3     20180301            2   \n",
       "4     20180301            2   \n",
       "...        ...          ...   \n",
       "4084  20180331            2   \n",
       "4085  20180331            1   \n",
       "4086  20180331            1   \n",
       "4087  20180331            1   \n",
       "4088  20180331            1   \n",
       "\n",
       "                                                 Counts  \\\n",
       "0                                                   NaN   \n",
       "1                                                   NaN   \n",
       "2                                                   NaN   \n",
       "3                                                   NaN   \n",
       "4                                                   NaN   \n",
       "...                                                 ...   \n",
       "4084                                                NaN   \n",
       "4085                                                NaN   \n",
       "4086  KILL#5##2#Arizona, United States#US#USAZ#33.77...   \n",
       "4087                                                NaN   \n",
       "4088                                                NaN   \n",
       "\n",
       "                                                 Themes  \\\n",
       "0     WB_1921_PRIVATE_SECTOR_DEVELOPMENT;WB_405_BUSI...   \n",
       "1     TAX_FNCACT;TAX_FNCACT_STUDENT;TAX_FNCACT_STUDE...   \n",
       "2     TAX_FNCACT;TAX_FNCACT_PILOT;EPU_ECONOMY_HISTOR...   \n",
       "3     TAX_FNCACT;TAX_FNCACT_REGULATORS;PUBLIC_TRANSP...   \n",
       "4     TAX_WORLDLANGUAGES;TAX_WORLDLANGUAGES_DEUTSCH;...   \n",
       "...                                                 ...   \n",
       "4084  WB_845_LEGAL_AND_REGULATORY_FRAMEWORK;WB_696_P...   \n",
       "4085  MANMADE_DISASTER_IMPLIED;CRISISLEX_CRISISLEXRE...   \n",
       "4086  MANMADE_DISASTER_IMPLIED;TAX_FNCACT;TAX_FNCACT...   \n",
       "4087  MANMADE_DISASTER_IMPLIED;EPU_ECONOMY_HISTORIC;...   \n",
       "4088  MANMADE_DISASTER_IMPLIED;KILL;CRISISLEX_T03_DE...   \n",
       "\n",
       "                                              Locations  \\\n",
       "0     1#China#CH#CH#35#105#CH;4#Shanghai, Shanghai, ...   \n",
       "1                       1#United Kingdom#UK#UK#54#-4#UK   \n",
       "2     3#Miami, Florida, United States#US#USFL#25.774...   \n",
       "3     3#Washington, Washington, United States#US#USD...   \n",
       "4     4#Shanghai, Shanghai, China#CH#CH23#31.2222#12...   \n",
       "...                                                 ...   \n",
       "4084  3#San Francisco, California, United States#US#...   \n",
       "4085  2#Arizona, United States#US#USAZ#33.7712#-111....   \n",
       "4086  2#Arizona, United States#US#USAZ#33.7712#-111....   \n",
       "4087  2#Arizona, United States#US#USAZ#33.7712#-111....   \n",
       "4088  2#Arizona, United States#US#USAZ#33.7712#-111....   \n",
       "\n",
       "                                                Persons  \\\n",
       "0                                   robin li;lihong qin   \n",
       "1                                         andrew deakin   \n",
       "2     john kwant;sam abuelsamid;sherif marakby;carlo...   \n",
       "3       donald trump;derek kan;barack obama;elaine chao   \n",
       "4              li chungen;huang changjiang;deutsch fran   \n",
       "...                                                 ...   \n",
       "4084                                                NaN   \n",
       "4085  mark dahncke;arnaud lagandr;santa clara;danny ...   \n",
       "4086                                       eric risberg   \n",
       "4087                                        alex davies   \n",
       "4088                                    elaine herzberg   \n",
       "\n",
       "                                          Organizations  \\\n",
       "0     motor corp ltd;information technology;xinhua;s...   \n",
       "1                                    cardiff university   \n",
       "2     google;nissan motor co;ford motor co;consumer ...   \n",
       "3     railroad administration;transit administration...   \n",
       "4     google;china tibet online china radio internat...   \n",
       "...                                                 ...   \n",
       "4084                                   trademark office   \n",
       "4085  instagram;volvo;nvidia;twitter;facebook;volksw...   \n",
       "4086  stanford center;department of public health;au...   \n",
       "4087                                                NaN   \n",
       "4088                                                NaN   \n",
       "\n",
       "                                               ToneData  \\\n",
       "0     0.873362445414847,2.18340611353712,1.310043668...   \n",
       "1     4.02476780185759,4.64396284829721,0.6191950464...   \n",
       "2     0.812182741116751,2.23350253807107,1.421319796...   \n",
       "3     0,1.34228187919463,1.34228187919463,2.68456375...   \n",
       "4     1.34328358208955,2.08955223880597,0.7462686567...   \n",
       "...                                                 ...   \n",
       "4084  0,2.11640211640212,2.11640211640212,4.23280423...   \n",
       "4085  -0.811123986095017,1.27462340672074,2.08574739...   \n",
       "4086  -3.30228619813717,2.54022015241321,5.842506350...   \n",
       "4087  -8.16326530612245,0,8.16326530612245,8.1632653...   \n",
       "4088  -1.3745704467354,1.71821305841924,3.0927835051...   \n",
       "\n",
       "                                            CAMEOEvents  \\\n",
       "0                                             735029480   \n",
       "1                                                   NaN   \n",
       "2                                                   NaN   \n",
       "3     734827665,734827620,734827665,734827975,735120...   \n",
       "4                                                   NaN   \n",
       "...                                                 ...   \n",
       "4084                                                NaN   \n",
       "4085                      743466101,743466102,743467752   \n",
       "4086                                743587503,743588241   \n",
       "4087                                743576470,743577475   \n",
       "4088                                                NaN   \n",
       "\n",
       "                           Sources  \\\n",
       "0                     newsweek.com   \n",
       "1                theengineer.co.uk   \n",
       "2                  therepublic.com   \n",
       "3          reuters.com;reuters.com   \n",
       "4     bjreview.com.cn;bjreview.com   \n",
       "...                            ...   \n",
       "4084   daijiworld.com;canindia.com   \n",
       "4085         fredericknewspost.com   \n",
       "4086                     salon.com   \n",
       "4087               direktbroker.de   \n",
       "4088                   carbuzz.com   \n",
       "\n",
       "                                             SourceURLs  \n",
       "0     http://www.newsweek.com/self-driving-cars-fina...  \n",
       "1     https://www.theengineer.co.uk/formula-student-...  \n",
       "2     http://www.therepublic.com/2018/02/28/us-ford-...  \n",
       "3     https://www.reuters.com/article/us-autos-selfd...  \n",
       "4     http://www.bjreview.com.cn/./Latest_Headlines/...  \n",
       "...                                                 ...  \n",
       "4084  http://daijiworld.com/news/newsDisplay.aspx?ne...  \n",
       "4085  https://www.fredericknewspost.com/public/ap/ne...  \n",
       "4086  https://www.salon.com/2018/03/31/the-everyday-...  \n",
       "4087  https://www.direktbroker.de/news/international...  \n",
       "4088  https://carbuzz.com/news/self-driving-chevy-ti...  \n",
       "\n",
       "[4089 rows x 11 columns]"
      ]
     },
     "execution_count": 3,
     "metadata": {},
     "output_type": "execute_result"
    }
   ],
   "source": [
    "df"
   ]
  },
  {
   "cell_type": "markdown",
   "metadata": {},
   "source": [
    "**Note, this data already have sentiment analysis from Google. See first number in column `ToneData`:**"
   ]
  },
  {
   "cell_type": "code",
   "execution_count": 4,
   "metadata": {},
   "outputs": [
    {
     "data": {
      "text/plain": [
       "'0.873362445414847,2.18340611353712,1.31004366812227,3.49344978165939,23.5807860262009,0.873362445414847'"
      ]
     },
     "execution_count": 4,
     "metadata": {},
     "output_type": "execute_result"
    }
   ],
   "source": [
    "df.ToneData[0]"
   ]
  },
  {
   "cell_type": "markdown",
   "metadata": {},
   "source": [
    "**Define scrapper that retrieves paragraphs from news articles that are larger than 50 characters. Total size of the record is kept below 9999 characters.**"
   ]
  },
  {
   "cell_type": "code",
   "execution_count": 58,
   "metadata": {},
   "outputs": [],
   "source": [
    "tot_count = 0\n",
    "headers = {'User-Agent': 'Mozilla/5.0 (Macintosh; Intel Mac OS X 10_11_5) AppleWebKit/537.36 (KHTML, like Gecko) Chrome/50.0.2661.102 Safari/537.36'}\n",
    "def gettext(url):\n",
    "    minparagraph=50\n",
    "    maxtotal=9999\n",
    "    global tot_count\n",
    "    tot_count += 1\n",
    "    if(tot_count%10 == 0): print(tot_count, end =\" \")\n",
    "    try:\n",
    "        result = requests.get(url, headers=headers)\n",
    "        #print(result.content)\n",
    "    except:\n",
    "        result = requests.get(\"http://google1299.com/\", headers=headers) # <-- get dummy record from unexisted web site\n",
    "        \n",
    "    c = result.content\n",
    "    soup = BeautifulSoup(c)\n",
    "    tempnews=[]\n",
    "    count=0\n",
    "    for tag in soup.findAll('p'):\n",
    "        temptext=tag.getText()\n",
    "        count+=len(temptext)\n",
    "        if len(temptext)>minparagraph and count<maxtotal:\n",
    "            tempnews.append(temptext)\n",
    "            #print(temptext)\n",
    "    news=\" \".join(x for x in tempnews)\n",
    "    \n",
    "    # clean record\n",
    "    news.replace(\"\\n\", \" \")\n",
    "    news.replace(\"\\t\", \" \")\n",
    "    news.replace(\"\\r\", \" \")\n",
    "    news.replace(\"_\", \" \")\n",
    "    news = re.sub(r'\\s+', ' ', news).strip()\n",
    "    return news"
   ]
  },
  {
   "cell_type": "markdown",
   "metadata": {},
   "source": [
    "**The scrapper accepts an URL for news article in the following form:**"
   ]
  },
  {
   "cell_type": "code",
   "execution_count": 6,
   "metadata": {},
   "outputs": [
    {
     "data": {
      "text/plain": [
       "'http://www.newsweek.com/self-driving-cars-finally-come-china-825845'"
      ]
     },
     "execution_count": 6,
     "metadata": {},
     "output_type": "execute_result"
    }
   ],
   "source": [
    "df[\"SourceURLs\"][0]"
   ]
  },
  {
   "cell_type": "markdown",
   "metadata": {},
   "source": [
    "**The scrapper returns text of a news article as string (cleaned from newlines and multiple spaces, some html tags still might sneak in):**"
   ]
  },
  {
   "cell_type": "code",
   "execution_count": 7,
   "metadata": {},
   "outputs": [
    {
     "data": {
      "text/plain": [
       "'China issued licenses to auto makers on Thursday that allow self-driving vehicles to be road tested for the first time, the state-owned Xinhua news agency reported. Two licenses were offered to Shanghai-based SAIC Motor Corp Ltd, and the other went to electric vehicle start-up NIO, Xinhua reported. NIO confirmed it received a license. There was no immediate comment from SAIC. The licenses would allow operators to test drive the vehicles on a 5.6-km (3.5-mile) public road in Jiading District of Shanghai, Xinhua said. The licenses were issued after Robin Li, the boss of China\\'s biggest search engine Baidu, tested his firm\\'s driverless car on Beijing\\'s roads in July, stirring controversy as there were no rules for such a test, the agency said. NIO said it had received its license from Shanghai Municipal Government. \"We will now be able to further the development of our autonomous driving technologies,\" NIO Co-Founder and President Lihong Qin said in the statement. Read more: Driverless Taxis Mark \\'End of Automotive Era\\' as Waymo Tests Self-Driving Cars Without Humans Shanghai also issued regulations on road tests for such smart cars and said it would promote the application and commercialization of vehicles using artificial intelligence technology and Internet-linked functions, Xinhua reported. \"Shanghai will open more roads for testing smart cars,\" Huang Ou, the deputy director of Shanghai Commission of Economy and Information Technology, said, according to the agency. Weekly magazine, delivered Daily Newsletter Website access Weekly magazine, delivered Daily Newsletter Website access Free access to 40+ digital editions Website access Daily Newsletter'"
      ]
     },
     "execution_count": 7,
     "metadata": {},
     "output_type": "execute_result"
    }
   ],
   "source": [
    "gettext(df[\"SourceURLs\"][0])"
   ]
  },
  {
   "cell_type": "markdown",
   "metadata": {},
   "source": [
    "**Create new column in the dataframe wich contains text of news articles:**"
   ]
  },
  {
   "cell_type": "code",
   "execution_count": 8,
   "metadata": {},
   "outputs": [
    {
     "name": "stdout",
     "output_type": "stream",
     "text": [
      "10 20 30 40 "
     ]
    },
    {
     "name": "stderr",
     "output_type": "stream",
     "text": [
      "Some characters could not be decoded, and were replaced with REPLACEMENT CHARACTER.\n"
     ]
    },
    {
     "name": "stdout",
     "output_type": "stream",
     "text": [
      "50 60 70 80 90 100 110 120 130 140 150 160 170 180 190 200 210 220 230 240 250 260 270 280 290 300 310 320 330 340 350 360 370 380 390 400 410 420 430 440 450 460 470 480 490 500 510 520 530 540 550 560 570 580 590 600 610 620 "
     ]
    },
    {
     "name": "stderr",
     "output_type": "stream",
     "text": [
      "Some characters could not be decoded, and were replaced with REPLACEMENT CHARACTER.\n"
     ]
    },
    {
     "name": "stdout",
     "output_type": "stream",
     "text": [
      "630 640 650 660 670 680 690 700 710 720 730 740 750 760 770 780 790 800 810 820 830 840 850 860 870 880 890 900 910 920 930 940 950 960 970 980 990 1000 1010 1020 1030 1040 1050 1060 1070 1080 1090 1100 1110 1120 1130 1140 1150 1160 1170 1180 1190 1200 1210 1220 1230 1240 1250 1260 1270 1280 1290 1300 1310 1320 1330 1340 1350 1360 1370 1380 1390 1400 1410 1420 1430 1440 1450 1460 1470 1480 1490 1500 1510 1520 1530 1540 1550 1560 1570 1580 1590 1600 1610 1620 1630 "
     ]
    },
    {
     "name": "stderr",
     "output_type": "stream",
     "text": [
      "Some characters could not be decoded, and were replaced with REPLACEMENT CHARACTER.\n"
     ]
    },
    {
     "name": "stdout",
     "output_type": "stream",
     "text": [
      "1640 1650 1660 1670 1680 1690 1700 1710 1720 1730 1740 1750 1760 1770 1780 1790 1800 1810 1820 1830 1840 1850 1860 1870 1880 1890 1900 1910 1920 1930 1940 1950 1960 1970 1980 1990 2000 2010 2020 2030 2040 2050 2060 2070 2080 2090 2100 2110 2120 2130 2140 2150 2160 2170 2180 2190 2200 2210 2220 2230 2240 2250 2260 2270 2280 2290 2300 2310 2320 2330 2340 2350 2360 2370 2380 2390 2400 2410 2420 2430 2440 2450 2460 2470 2480 2490 2500 2510 2520 2530 2540 2550 2560 2570 2580 2590 2600 2610 2620 2630 2640 2650 2660 2670 2680 2690 2700 2710 2720 2730 2740 2750 2760 2770 2780 2790 2800 2810 2820 2830 2840 2850 2860 2870 2880 2890 2900 2910 2920 2930 2940 2950 2960 2970 2980 2990 3000 3010 3020 3030 3040 3050 3060 3070 3080 3090 3100 3110 3120 3130 3140 3150 3160 3170 3180 3190 3200 3210 3220 3230 3240 3250 3260 3270 3280 3290 3300 3310 3320 3330 3340 3350 3360 3370 3380 3390 3400 3410 3420 3430 3440 3450 3460 3470 3480 3490 3500 3510 3520 3530 3540 3550 3560 3570 3580 3590 3600 3610 3620 3630 3640 3650 3660 3670 3680 3690 3700 3710 3720 3730 3740 3750 3760 3770 3780 3790 3800 3810 3820 3830 3840 3850 3860 3870 3880 3890 3900 3910 3920 3930 3940 3950 3960 3970 3980 3990 4000 4010 4020 4030 4040 4050 4060 4070 4080 4090 "
     ]
    }
   ],
   "source": [
    "df['text']= df['SourceURLs'].apply(lambda x: gettext(x))"
   ]
  },
  {
   "cell_type": "markdown",
   "metadata": {},
   "source": [
    "**Save data frame to a file (tab separated):**"
   ]
  },
  {
   "cell_type": "code",
   "execution_count": 9,
   "metadata": {},
   "outputs": [],
   "source": [
    "df.to_csv(\"../data/processed/20191209233601.19044.gkg.txt\", sep='\\t')"
   ]
  },
  {
   "cell_type": "markdown",
   "metadata": {},
   "source": [
    "**Check that shape of the data frame didn't accidentally change.**"
   ]
  },
  {
   "cell_type": "code",
   "execution_count": 10,
   "metadata": {},
   "outputs": [
    {
     "data": {
      "text/plain": [
       "(4089, 12)"
      ]
     },
     "execution_count": 10,
     "metadata": {},
     "output_type": "execute_result"
    }
   ],
   "source": [
    "df.shape"
   ]
  },
  {
   "cell_type": "markdown",
   "metadata": {},
   "source": [
    "**Print out examples of retrieved news articles. Record `0` looks good:**"
   ]
  },
  {
   "cell_type": "code",
   "execution_count": 11,
   "metadata": {},
   "outputs": [
    {
     "data": {
      "text/plain": [
       "'China issued licenses to auto makers on Thursday that allow self-driving vehicles to be road tested for the first time, the state-owned Xinhua news agency reported. Two licenses were offered to Shanghai-based SAIC Motor Corp Ltd, and the other went to electric vehicle start-up NIO, Xinhua reported. NIO confirmed it received a license. There was no immediate comment from SAIC. The licenses would allow operators to test drive the vehicles on a 5.6-km (3.5-mile) public road in Jiading District of Shanghai, Xinhua said. The licenses were issued after Robin Li, the boss of China\\'s biggest search engine Baidu, tested his firm\\'s driverless car on Beijing\\'s roads in July, stirring controversy as there were no rules for such a test, the agency said. NIO said it had received its license from Shanghai Municipal Government. \"We will now be able to further the development of our autonomous driving technologies,\" NIO Co-Founder and President Lihong Qin said in the statement. Read more: Driverless Taxis Mark \\'End of Automotive Era\\' as Waymo Tests Self-Driving Cars Without Humans Shanghai also issued regulations on road tests for such smart cars and said it would promote the application and commercialization of vehicles using artificial intelligence technology and Internet-linked functions, Xinhua reported. \"Shanghai will open more roads for testing smart cars,\" Huang Ou, the deputy director of Shanghai Commission of Economy and Information Technology, said, according to the agency. Weekly magazine, delivered Daily Newsletter Website access Weekly magazine, delivered Daily Newsletter Website access Free access to 40+ digital editions Website access Daily Newsletter'"
      ]
     },
     "execution_count": 11,
     "metadata": {},
     "output_type": "execute_result"
    }
   ],
   "source": [
    "df['text'][0]"
   ]
  },
  {
   "cell_type": "markdown",
   "metadata": {},
   "source": [
    "**Print out examples of retrieved news articles. Record `4` is empty, so later we will check how many such records we got and filter them out in analysis:**"
   ]
  },
  {
   "cell_type": "code",
   "execution_count": 88,
   "metadata": {},
   "outputs": [
    {
     "data": {
      "text/plain": [
       "''"
      ]
     },
     "execution_count": 88,
     "metadata": {},
     "output_type": "execute_result"
    }
   ],
   "source": [
    "df['text'][4]"
   ]
  },
  {
   "cell_type": "markdown",
   "metadata": {},
   "source": [
    "**Print out examples of retrieved news articles. Record `7` looks good but note at the end some html tags got in. It might be good to clean them later.**"
   ]
  },
  {
   "cell_type": "code",
   "execution_count": 12,
   "metadata": {},
   "outputs": [
    {
     "data": {
      "text/plain": [
       "'The company is partnering with Domino\\'s Pizza and others to see how consumers react. DETROIT — Ford Motor Co. is making Miami-Dade County its new test area for self-driving vehicles. The automaker and its partners – Domino’s Pizza, ride-hailing company Lyft and delivery company Postmates – are starting pilot programs to see how consumers react to autonomous and semi-autonomous vehicles. Self-driving startup and Ford partner Argo AI already has a fleet of cars in the area making the highly detailed maps that are necessary for self-driving. Ford also will establish its first-ever autonomous vehicle terminal in Miami, where it will learn how to service and deploy its test fleet. More services will likely be introduced as the partnership goes on, including Chariot, an app-based shuttle service owned by Ford. It’s all part of Ford’s effort to find viable business models for fully autonomous vehicles and get them on the road by 2021. “This is, I think, the future of any automotive company or mobility company. If a majority of the world’s population is going to be living in cities, we need to understand how to move those people around,” said John Kwant, Ford’s vice president of city solutions, who inked the deal with Miami-Dade. Ford isn’t the first automaker to run test fleets of autonomous vehicles. General Motors Co. will start testing autonomous vehicles in New York City this year, while Nissan Motor Co. is launching an autonomous taxi service in Yokohama, Japan, next week. Technology companies like Waymo – a division of Google – are also testing self-driving vehicles on public roads in Phoenix, San Francisco and Singapore, among other cities. But the partnership with a specific metropolitan area is less common. Both sides envision a deep relationship where Ford can help Miami-Dade solve specific problems, like how to most efficiently move people from its suburbs to its downtown monorail, and Miami-Dade can offer solutions like dedicated lanes for automated vehicles or infrastructure projects like advanced traffic lights that can send signals to connected cars. “We want to be on the forefront of this because we want to give our people choices,” said Carlos Gimenez, the mayor of Miami-Dade County, which is home to 34 cities and 2.7 million people. Sherif Marakby, Ford’s vice president of autonomous vehicles and electrification, says the company also intends to work closely with local businesses. The company wants to learn, for example, how a florist might use an autonomous delivery vehicle. “Autonomous vehicle technology is interesting, but it’s a whole lot more interesting with a viable business model,” he said. The city of Miami is the fifth-most congested in the U.S., according to a recent traffic study by the consulting firm Inrix. After more than a century of selling people vehicles, Kwant says Ford now wants to figure out ways to move people more efficiently in order to cut down on that time in traffic. Sam Abuelsamid, a senior research analyst with the consulting firm Navigant Research, says Ford and others must figure out how to make money on self-driving cars. “If this does take off, if people do adopt automated vehicles and use them for ride-hailing, that’s going to result in a decline in retail vehicle sales,” Abuelsamid said. “They need to figure out, if we’re going to have a decline in the number of vehicles we sell to consumers, how do we keep our business stable?” Kwant says the testing will also help Ford determine what its future self-driving vehicles need to look like and how they must perform. “If you don’t have steering wheels, how do you begin to use that package space? How do you begin to look different in terms of carrying more people?” he said. Ford won’t say how many vehicles it will have on the road in Miami-Dade, but says it will be Ford’s largest test area for autonomous vehicles by the end of this year. All of the vehicles will have backup safety drivers. Domino’s experimental vehicles aren’t even technically autonomous; they’re equipped to be, but for now they have actual drivers. The windows are blacked out so customers can experience how to get pizza from the car without dealing with a person. Miami will give Ford new challenges. Previously, it tested Domino’s cars in suburban Michigan, where parking wasn’t an issue. But in busy Miami Beach, the cars will have to figure out where they can go to allow apartment-dwellers to safely retrieve their pizzas. An autonomous delivery vehicle from Postmates might have to switch between Spanish and English commands when it picks up a meal and delivers it to a customer. Self-driving Lyft vehicles will be tasked with mapping out the best places to wait for customers without causing more traffic headaches. Kwant says Ford will announce more city partnerships as this year progresses. But Miami-Dade was a natural, since it has good weather, lots of different urban and suburban terrain and support from Gimenez and other government leaders. Gimenez, who began talking to Ford in 2017 at the Consumer Electronics Show in Las Vegas, says he’s not worried about consumer acceptance of self-driving cars. He thinks his community will embrace them as companies prove that shared autonomous vehicles can be cheaper and safer than regular ones. Gimenez says self-driving vehicles also can potentially improve traffic flow without significant new investments in roadways. They can travel more closely together, for example, because they’re always watching the car in front of them and can brake automatically.”That’s why I’m really high on this technology,” he said. var mediaContent = \"media\\\\\\\\:content,content\"; (function() { var now = new Date(); var cookieName = new RegExp(\\'MSPAN_Paywall_views_\\' + now.getMonth()); window.MSPAN = { Paywall: { totalViews: function() { var cookies = document.cookie.split(\\'; \\'); var val = 0; if (!cookieName.test(document.cookie)) { return 0; } for (var i = 0; i < cookies.length; i++) { if (cookieName.test(cookies[i])) { val = parseInt(cookies[i].split(\\'=\\')[1]); } } return val; } } }; }()); (function(){ \"use strict\"; if(/logout/.test(window.location.search)){ var date = new Date(); var cookieString = \"MSPAN_Paywall_user=0; domain=.\"+document.location.host.replace(/^\\\\w+\\\\./, \\'\\')+\"; path=/; expires=\" + date.toGMTString(); var cookieString2 = \"MSPAN_Paywall_user=0; domain=\"+document.location.host+\"; path=/; expires=\" + date.toGMTString(); date.setHours(date.getHours() - 1); document.cookie = cookieString; document.cookie = cookieString2; } }());'"
      ]
     },
     "execution_count": 12,
     "metadata": {},
     "output_type": "execute_result"
    }
   ],
   "source": [
    "df['text'][7]"
   ]
  },
  {
   "cell_type": "markdown",
   "metadata": {},
   "source": [
    "**Print out examples of retrieved news articles. Last record `4088` looks good:**"
   ]
  },
  {
   "cell_type": "code",
   "execution_count": 13,
   "metadata": {},
   "outputs": [
    {
     "data": {
      "text/plain": [
       "'Shortly after an autonomous car struck and killed a pedestrian in Arizona, one of GM\\'s self-driving cars was handed a ticket after police said the vehicle got too close to a pedestrian while making a right turn. The car is owned by the San Francisco-based startup, Cruise Automation, and was formally cited for failing to yield to a pedestrian in a crosswalk. Cruise says that car\\'s data shows the person was far away enough from the vehicle for it to be a non-issue, and that the car did nothing wrong. According to KPIX-TV, a witness said the cop was just writing a regular ticket like normal. Data collected by Cruise shows the pedestrian was 10.8 feet away from the self-driving car as it turned onto Harrison at 14th Street on one of the car\\'s normal test routes. In a statement, the company said, \"Safety is our priority in testing our self-driving vehicles. California law requires the vehicle to yield the right of way to pedestrians, allowing them to proceed undisturbed and unhurried without fear of interference of their safe passage through an intersection. Our data indicates that\\'s what happened here.\" Despite the car operating itself, Cruise says the human test driver is now responsible for the citation, even though it believes neither the car nor its supervisor did anything wrong. Discussions surrounding autonomous cars and their interactions with pedestrians have reached a fever pitch in the last week following the death of 49-year-old Elaine Herzberg after she was struck and killed by one of Uber\\'s self-driving Volvos as she walked her bicycle across a road in Temple, Arizona.'"
      ]
     },
     "execution_count": 13,
     "metadata": {},
     "output_type": "execute_result"
    }
   ],
   "source": [
    "df['text'][4088]"
   ]
  },
  {
   "cell_type": "markdown",
   "metadata": {},
   "source": [
    "## Read Data and Check for Consistency"
   ]
  },
  {
   "cell_type": "markdown",
   "metadata": {},
   "source": [
    "**Read data from text file where we saved data frame with retrieved news articles. We have to make sure that when we read it in no records are corrupted.**"
   ]
  },
  {
   "cell_type": "code",
   "execution_count": 14,
   "metadata": {},
   "outputs": [],
   "source": [
    "df_check0 = pd.read_csv(\"../data/processed/20191209233601.19044.gkg.txt\", sep='\\t', index_col=0)"
   ]
  },
  {
   "cell_type": "code",
   "execution_count": 15,
   "metadata": {},
   "outputs": [
    {
     "data": {
      "text/plain": [
       "(4089, 13)"
      ]
     },
     "execution_count": 15,
     "metadata": {},
     "output_type": "execute_result"
    }
   ],
   "source": [
    "df_check0.shape"
   ]
  },
  {
   "cell_type": "code",
   "execution_count": 16,
   "metadata": {},
   "outputs": [
    {
     "name": "stdout",
     "output_type": "stream",
     "text": [
      "<class 'pandas.core.frame.DataFrame'>\n",
      "RangeIndex: 4089 entries, 0 to 4088\n",
      "Data columns (total 13 columns):\n",
      "Unnamed: 0       4089 non-null int64\n",
      "Date             4089 non-null int64\n",
      "NumArticles      4089 non-null int64\n",
      "Counts           586 non-null object\n",
      "Themes           4001 non-null object\n",
      "Locations        4089 non-null object\n",
      "Persons          3578 non-null object\n",
      "Organizations    3771 non-null object\n",
      "ToneData         4089 non-null object\n",
      "CAMEOEvents      2222 non-null object\n",
      "Sources          4089 non-null object\n",
      "SourceURLs       4089 non-null object\n",
      "text             3669 non-null object\n",
      "dtypes: int64(3), object(10)\n",
      "memory usage: 415.4+ KB\n"
     ]
    }
   ],
   "source": [
    "df_check0.info()"
   ]
  },
  {
   "cell_type": "code",
   "execution_count": 17,
   "metadata": {},
   "outputs": [
    {
     "data": {
      "text/html": [
       "<div>\n",
       "<style scoped>\n",
       "    .dataframe tbody tr th:only-of-type {\n",
       "        vertical-align: middle;\n",
       "    }\n",
       "\n",
       "    .dataframe tbody tr th {\n",
       "        vertical-align: top;\n",
       "    }\n",
       "\n",
       "    .dataframe thead th {\n",
       "        text-align: right;\n",
       "    }\n",
       "</style>\n",
       "<table border=\"1\" class=\"dataframe\">\n",
       "  <thead>\n",
       "    <tr style=\"text-align: right;\">\n",
       "      <th></th>\n",
       "      <th>Unnamed: 0</th>\n",
       "      <th>Date</th>\n",
       "      <th>NumArticles</th>\n",
       "      <th>Counts</th>\n",
       "      <th>Themes</th>\n",
       "      <th>Locations</th>\n",
       "      <th>Persons</th>\n",
       "      <th>Organizations</th>\n",
       "      <th>ToneData</th>\n",
       "      <th>CAMEOEvents</th>\n",
       "      <th>Sources</th>\n",
       "      <th>SourceURLs</th>\n",
       "      <th>text</th>\n",
       "    </tr>\n",
       "  </thead>\n",
       "  <tbody>\n",
       "    <tr>\n",
       "      <th>0</th>\n",
       "      <td>0</td>\n",
       "      <td>20180301</td>\n",
       "      <td>1</td>\n",
       "      <td>NaN</td>\n",
       "      <td>WB_1921_PRIVATE_SECTOR_DEVELOPMENT;WB_405_BUSI...</td>\n",
       "      <td>1#China#CH#CH#35#105#CH;4#Shanghai, Shanghai, ...</td>\n",
       "      <td>robin li;lihong qin</td>\n",
       "      <td>motor corp ltd;information technology;xinhua;s...</td>\n",
       "      <td>0.873362445414847,2.18340611353712,1.310043668...</td>\n",
       "      <td>735029480</td>\n",
       "      <td>newsweek.com</td>\n",
       "      <td>http://www.newsweek.com/self-driving-cars-fina...</td>\n",
       "      <td>China issued licenses to auto makers on Thursd...</td>\n",
       "    </tr>\n",
       "    <tr>\n",
       "      <th>1</th>\n",
       "      <td>1</td>\n",
       "      <td>20180301</td>\n",
       "      <td>1</td>\n",
       "      <td>NaN</td>\n",
       "      <td>TAX_FNCACT;TAX_FNCACT_STUDENT;TAX_FNCACT_STUDE...</td>\n",
       "      <td>1#United Kingdom#UK#UK#54#-4#UK</td>\n",
       "      <td>andrew deakin</td>\n",
       "      <td>cardiff university</td>\n",
       "      <td>4.02476780185759,4.64396284829721,0.6191950464...</td>\n",
       "      <td>NaN</td>\n",
       "      <td>theengineer.co.uk</td>\n",
       "      <td>https://www.theengineer.co.uk/formula-student-...</td>\n",
       "      <td>Formula Student will celebrate its 20th annive...</td>\n",
       "    </tr>\n",
       "    <tr>\n",
       "      <th>2</th>\n",
       "      <td>2</td>\n",
       "      <td>20180301</td>\n",
       "      <td>1</td>\n",
       "      <td>NaN</td>\n",
       "      <td>TAX_FNCACT;TAX_FNCACT_PILOT;EPU_ECONOMY_HISTOR...</td>\n",
       "      <td>3#Miami, Florida, United States#US#USFL#25.774...</td>\n",
       "      <td>john kwant;sam abuelsamid;sherif marakby;carlo...</td>\n",
       "      <td>google;nissan motor co;ford motor co;consumer ...</td>\n",
       "      <td>0.812182741116751,2.23350253807107,1.421319796...</td>\n",
       "      <td>NaN</td>\n",
       "      <td>therepublic.com</td>\n",
       "      <td>http://www.therepublic.com/2018/02/28/us-ford-...</td>\n",
       "      <td>Nobody covers Columbus, Indiana and the surrou...</td>\n",
       "    </tr>\n",
       "    <tr>\n",
       "      <th>3</th>\n",
       "      <td>3</td>\n",
       "      <td>20180301</td>\n",
       "      <td>2</td>\n",
       "      <td>NaN</td>\n",
       "      <td>TAX_FNCACT;TAX_FNCACT_REGULATORS;PUBLIC_TRANSP...</td>\n",
       "      <td>3#Washington, Washington, United States#US#USD...</td>\n",
       "      <td>donald trump;derek kan;barack obama;elaine chao</td>\n",
       "      <td>railroad administration;transit administration...</td>\n",
       "      <td>0,1.34228187919463,1.34228187919463,2.68456375...</td>\n",
       "      <td>734827665,734827620,734827665,734827975,735120...</td>\n",
       "      <td>reuters.com;reuters.com</td>\n",
       "      <td>https://www.reuters.com/article/us-autos-selfd...</td>\n",
       "      <td>WASHINGTON (Reuters) - U.S. Transportation Sec...</td>\n",
       "    </tr>\n",
       "    <tr>\n",
       "      <th>4</th>\n",
       "      <td>4</td>\n",
       "      <td>20180301</td>\n",
       "      <td>2</td>\n",
       "      <td>NaN</td>\n",
       "      <td>TAX_WORLDLANGUAGES;TAX_WORLDLANGUAGES_DEUTSCH;...</td>\n",
       "      <td>4#Shanghai, Shanghai, China#CH#CH23#31.2222#12...</td>\n",
       "      <td>li chungen;huang changjiang;deutsch fran</td>\n",
       "      <td>google;china tibet online china radio internat...</td>\n",
       "      <td>1.34328358208955,2.08955223880597,0.7462686567...</td>\n",
       "      <td>NaN</td>\n",
       "      <td>bjreview.com.cn;bjreview.com</td>\n",
       "      <td>http://www.bjreview.com.cn/./Latest_Headlines/...</td>\n",
       "      <td>NaN</td>\n",
       "    </tr>\n",
       "    <tr>\n",
       "      <th>...</th>\n",
       "      <td>...</td>\n",
       "      <td>...</td>\n",
       "      <td>...</td>\n",
       "      <td>...</td>\n",
       "      <td>...</td>\n",
       "      <td>...</td>\n",
       "      <td>...</td>\n",
       "      <td>...</td>\n",
       "      <td>...</td>\n",
       "      <td>...</td>\n",
       "      <td>...</td>\n",
       "      <td>...</td>\n",
       "      <td>...</td>\n",
       "    </tr>\n",
       "    <tr>\n",
       "      <th>4084</th>\n",
       "      <td>4084</td>\n",
       "      <td>20180331</td>\n",
       "      <td>2</td>\n",
       "      <td>NaN</td>\n",
       "      <td>WB_845_LEGAL_AND_REGULATORY_FRAMEWORK;WB_696_P...</td>\n",
       "      <td>3#San Francisco, California, United States#US#...</td>\n",
       "      <td>NaN</td>\n",
       "      <td>trademark office</td>\n",
       "      <td>0,2.11640211640212,2.11640211640212,4.23280423...</td>\n",
       "      <td>NaN</td>\n",
       "      <td>daijiworld.com;canindia.com</td>\n",
       "      <td>http://daijiworld.com/news/newsDisplay.aspx?ne...</td>\n",
       "      <td>Oops! It looks like nothing was found at this ...</td>\n",
       "    </tr>\n",
       "    <tr>\n",
       "      <th>4085</th>\n",
       "      <td>4085</td>\n",
       "      <td>20180331</td>\n",
       "      <td>1</td>\n",
       "      <td>NaN</td>\n",
       "      <td>MANMADE_DISASTER_IMPLIED;CRISISLEX_CRISISLEXRE...</td>\n",
       "      <td>2#Arizona, United States#US#USAZ#33.7712#-111....</td>\n",
       "      <td>mark dahncke;arnaud lagandr;santa clara;danny ...</td>\n",
       "      <td>instagram;volvo;nvidia;twitter;facebook;volksw...</td>\n",
       "      <td>-0.811123986095017,1.27462340672074,2.08574739...</td>\n",
       "      <td>743466101,743466102,743467752</td>\n",
       "      <td>fredericknewspost.com</td>\n",
       "      <td>https://www.fredericknewspost.com/public/ap/ne...</td>\n",
       "      <td>DETROIT — Autonomous vehicles get all the head...</td>\n",
       "    </tr>\n",
       "    <tr>\n",
       "      <th>4086</th>\n",
       "      <td>4086</td>\n",
       "      <td>20180331</td>\n",
       "      <td>1</td>\n",
       "      <td>KILL#5##2#Arizona, United States#US#USAZ#33.77...</td>\n",
       "      <td>MANMADE_DISASTER_IMPLIED;TAX_FNCACT;TAX_FNCACT...</td>\n",
       "      <td>2#Arizona, United States#US#USAZ#33.7712#-111....</td>\n",
       "      <td>eric risberg</td>\n",
       "      <td>stanford center;department of public health;au...</td>\n",
       "      <td>-3.30228619813717,2.54022015241321,5.842506350...</td>\n",
       "      <td>743587503,743588241</td>\n",
       "      <td>salon.com</td>\n",
       "      <td>https://www.salon.com/2018/03/31/the-everyday-...</td>\n",
       "      <td>This article was originally published on The C...</td>\n",
       "    </tr>\n",
       "    <tr>\n",
       "      <th>4087</th>\n",
       "      <td>4087</td>\n",
       "      <td>20180331</td>\n",
       "      <td>1</td>\n",
       "      <td>NaN</td>\n",
       "      <td>MANMADE_DISASTER_IMPLIED;EPU_ECONOMY_HISTORIC;...</td>\n",
       "      <td>2#Arizona, United States#US#USAZ#33.7712#-111....</td>\n",
       "      <td>alex davies</td>\n",
       "      <td>NaN</td>\n",
       "      <td>-8.16326530612245,0,8.16326530612245,8.1632653...</td>\n",
       "      <td>743576470,743577475</td>\n",
       "      <td>direktbroker.de</td>\n",
       "      <td>https://www.direktbroker.de/news/international...</td>\n",
       "      <td>Bitte aktivieren Sie Javascript um die Seite o...</td>\n",
       "    </tr>\n",
       "    <tr>\n",
       "      <th>4088</th>\n",
       "      <td>4088</td>\n",
       "      <td>20180331</td>\n",
       "      <td>1</td>\n",
       "      <td>NaN</td>\n",
       "      <td>MANMADE_DISASTER_IMPLIED;KILL;CRISISLEX_T03_DE...</td>\n",
       "      <td>2#Arizona, United States#US#USAZ#33.7712#-111....</td>\n",
       "      <td>elaine herzberg</td>\n",
       "      <td>NaN</td>\n",
       "      <td>-1.3745704467354,1.71821305841924,3.0927835051...</td>\n",
       "      <td>NaN</td>\n",
       "      <td>carbuzz.com</td>\n",
       "      <td>https://carbuzz.com/news/self-driving-chevy-ti...</td>\n",
       "      <td>Shortly after an autonomous car struck and kil...</td>\n",
       "    </tr>\n",
       "  </tbody>\n",
       "</table>\n",
       "<p>4089 rows × 13 columns</p>\n",
       "</div>"
      ],
      "text/plain": [
       "      Unnamed: 0      Date  NumArticles  \\\n",
       "0              0  20180301            1   \n",
       "1              1  20180301            1   \n",
       "2              2  20180301            1   \n",
       "3              3  20180301            2   \n",
       "4              4  20180301            2   \n",
       "...          ...       ...          ...   \n",
       "4084        4084  20180331            2   \n",
       "4085        4085  20180331            1   \n",
       "4086        4086  20180331            1   \n",
       "4087        4087  20180331            1   \n",
       "4088        4088  20180331            1   \n",
       "\n",
       "                                                 Counts  \\\n",
       "0                                                   NaN   \n",
       "1                                                   NaN   \n",
       "2                                                   NaN   \n",
       "3                                                   NaN   \n",
       "4                                                   NaN   \n",
       "...                                                 ...   \n",
       "4084                                                NaN   \n",
       "4085                                                NaN   \n",
       "4086  KILL#5##2#Arizona, United States#US#USAZ#33.77...   \n",
       "4087                                                NaN   \n",
       "4088                                                NaN   \n",
       "\n",
       "                                                 Themes  \\\n",
       "0     WB_1921_PRIVATE_SECTOR_DEVELOPMENT;WB_405_BUSI...   \n",
       "1     TAX_FNCACT;TAX_FNCACT_STUDENT;TAX_FNCACT_STUDE...   \n",
       "2     TAX_FNCACT;TAX_FNCACT_PILOT;EPU_ECONOMY_HISTOR...   \n",
       "3     TAX_FNCACT;TAX_FNCACT_REGULATORS;PUBLIC_TRANSP...   \n",
       "4     TAX_WORLDLANGUAGES;TAX_WORLDLANGUAGES_DEUTSCH;...   \n",
       "...                                                 ...   \n",
       "4084  WB_845_LEGAL_AND_REGULATORY_FRAMEWORK;WB_696_P...   \n",
       "4085  MANMADE_DISASTER_IMPLIED;CRISISLEX_CRISISLEXRE...   \n",
       "4086  MANMADE_DISASTER_IMPLIED;TAX_FNCACT;TAX_FNCACT...   \n",
       "4087  MANMADE_DISASTER_IMPLIED;EPU_ECONOMY_HISTORIC;...   \n",
       "4088  MANMADE_DISASTER_IMPLIED;KILL;CRISISLEX_T03_DE...   \n",
       "\n",
       "                                              Locations  \\\n",
       "0     1#China#CH#CH#35#105#CH;4#Shanghai, Shanghai, ...   \n",
       "1                       1#United Kingdom#UK#UK#54#-4#UK   \n",
       "2     3#Miami, Florida, United States#US#USFL#25.774...   \n",
       "3     3#Washington, Washington, United States#US#USD...   \n",
       "4     4#Shanghai, Shanghai, China#CH#CH23#31.2222#12...   \n",
       "...                                                 ...   \n",
       "4084  3#San Francisco, California, United States#US#...   \n",
       "4085  2#Arizona, United States#US#USAZ#33.7712#-111....   \n",
       "4086  2#Arizona, United States#US#USAZ#33.7712#-111....   \n",
       "4087  2#Arizona, United States#US#USAZ#33.7712#-111....   \n",
       "4088  2#Arizona, United States#US#USAZ#33.7712#-111....   \n",
       "\n",
       "                                                Persons  \\\n",
       "0                                   robin li;lihong qin   \n",
       "1                                         andrew deakin   \n",
       "2     john kwant;sam abuelsamid;sherif marakby;carlo...   \n",
       "3       donald trump;derek kan;barack obama;elaine chao   \n",
       "4              li chungen;huang changjiang;deutsch fran   \n",
       "...                                                 ...   \n",
       "4084                                                NaN   \n",
       "4085  mark dahncke;arnaud lagandr;santa clara;danny ...   \n",
       "4086                                       eric risberg   \n",
       "4087                                        alex davies   \n",
       "4088                                    elaine herzberg   \n",
       "\n",
       "                                          Organizations  \\\n",
       "0     motor corp ltd;information technology;xinhua;s...   \n",
       "1                                    cardiff university   \n",
       "2     google;nissan motor co;ford motor co;consumer ...   \n",
       "3     railroad administration;transit administration...   \n",
       "4     google;china tibet online china radio internat...   \n",
       "...                                                 ...   \n",
       "4084                                   trademark office   \n",
       "4085  instagram;volvo;nvidia;twitter;facebook;volksw...   \n",
       "4086  stanford center;department of public health;au...   \n",
       "4087                                                NaN   \n",
       "4088                                                NaN   \n",
       "\n",
       "                                               ToneData  \\\n",
       "0     0.873362445414847,2.18340611353712,1.310043668...   \n",
       "1     4.02476780185759,4.64396284829721,0.6191950464...   \n",
       "2     0.812182741116751,2.23350253807107,1.421319796...   \n",
       "3     0,1.34228187919463,1.34228187919463,2.68456375...   \n",
       "4     1.34328358208955,2.08955223880597,0.7462686567...   \n",
       "...                                                 ...   \n",
       "4084  0,2.11640211640212,2.11640211640212,4.23280423...   \n",
       "4085  -0.811123986095017,1.27462340672074,2.08574739...   \n",
       "4086  -3.30228619813717,2.54022015241321,5.842506350...   \n",
       "4087  -8.16326530612245,0,8.16326530612245,8.1632653...   \n",
       "4088  -1.3745704467354,1.71821305841924,3.0927835051...   \n",
       "\n",
       "                                            CAMEOEvents  \\\n",
       "0                                             735029480   \n",
       "1                                                   NaN   \n",
       "2                                                   NaN   \n",
       "3     734827665,734827620,734827665,734827975,735120...   \n",
       "4                                                   NaN   \n",
       "...                                                 ...   \n",
       "4084                                                NaN   \n",
       "4085                      743466101,743466102,743467752   \n",
       "4086                                743587503,743588241   \n",
       "4087                                743576470,743577475   \n",
       "4088                                                NaN   \n",
       "\n",
       "                           Sources  \\\n",
       "0                     newsweek.com   \n",
       "1                theengineer.co.uk   \n",
       "2                  therepublic.com   \n",
       "3          reuters.com;reuters.com   \n",
       "4     bjreview.com.cn;bjreview.com   \n",
       "...                            ...   \n",
       "4084   daijiworld.com;canindia.com   \n",
       "4085         fredericknewspost.com   \n",
       "4086                     salon.com   \n",
       "4087               direktbroker.de   \n",
       "4088                   carbuzz.com   \n",
       "\n",
       "                                             SourceURLs  \\\n",
       "0     http://www.newsweek.com/self-driving-cars-fina...   \n",
       "1     https://www.theengineer.co.uk/formula-student-...   \n",
       "2     http://www.therepublic.com/2018/02/28/us-ford-...   \n",
       "3     https://www.reuters.com/article/us-autos-selfd...   \n",
       "4     http://www.bjreview.com.cn/./Latest_Headlines/...   \n",
       "...                                                 ...   \n",
       "4084  http://daijiworld.com/news/newsDisplay.aspx?ne...   \n",
       "4085  https://www.fredericknewspost.com/public/ap/ne...   \n",
       "4086  https://www.salon.com/2018/03/31/the-everyday-...   \n",
       "4087  https://www.direktbroker.de/news/international...   \n",
       "4088  https://carbuzz.com/news/self-driving-chevy-ti...   \n",
       "\n",
       "                                                   text  \n",
       "0     China issued licenses to auto makers on Thursd...  \n",
       "1     Formula Student will celebrate its 20th annive...  \n",
       "2     Nobody covers Columbus, Indiana and the surrou...  \n",
       "3     WASHINGTON (Reuters) - U.S. Transportation Sec...  \n",
       "4                                                   NaN  \n",
       "...                                                 ...  \n",
       "4084  Oops! It looks like nothing was found at this ...  \n",
       "4085  DETROIT — Autonomous vehicles get all the head...  \n",
       "4086  This article was originally published on The C...  \n",
       "4087  Bitte aktivieren Sie Javascript um die Seite o...  \n",
       "4088  Shortly after an autonomous car struck and kil...  \n",
       "\n",
       "[4089 rows x 13 columns]"
      ]
     },
     "execution_count": 17,
     "metadata": {},
     "output_type": "execute_result"
    }
   ],
   "source": [
    "df_check0"
   ]
  },
  {
   "cell_type": "markdown",
   "metadata": {},
   "source": [
    "**How many records have missing text record?**"
   ]
  },
  {
   "cell_type": "code",
   "execution_count": 45,
   "metadata": {},
   "outputs": [
    {
     "data": {
      "text/plain": [
       "0     China issued licenses to auto makers on Thursd...\n",
       "1     Formula Student will celebrate its 20th annive...\n",
       "2     Nobody covers Columbus, Indiana and the surrou...\n",
       "3     WASHINGTON (Reuters) - U.S. Transportation Sec...\n",
       "4                                                   NaN\n",
       "5     Uber launches self-driving pilot in San Franci...\n",
       "6     The page you are looking for doesn't exist.Cli...\n",
       "7     The company is partnering with Domino's Pizza ...\n",
       "8                                                   NaN\n",
       "9     Fr Arturo Sosa-the Superior General of Jesuits...\n",
       "10    Huei Peng, Director MCity, University of Michi...\n",
       "11    Message of ‘Reconciliation & Justice’ was deli...\n",
       "12    A few passing clouds, otherwise generally clea...\n",
       "13                                                  NaN\n",
       "14    We can't find the page you are looking for, we...\n",
       "15    by Eric David Silicon Valley has almost as man...\n",
       "16                                                  NaN\n",
       "17                                                  NaN\n",
       "18    A selection of top articles hand-picked by our...\n",
       "19    The host name resolution (DNS lookup) for this...\n",
       "Name: text, dtype: object"
      ]
     },
     "execution_count": 45,
     "metadata": {},
     "output_type": "execute_result"
    }
   ],
   "source": [
    "df_check0['text'].head(20)"
   ]
  },
  {
   "cell_type": "code",
   "execution_count": 66,
   "metadata": {},
   "outputs": [
    {
     "name": "stdout",
     "output_type": "stream",
     "text": [
      "China issued licenses to auto makers on Thursday that allow self-driving vehicles to be road tested for the first time, the state-owned Xinhua news agency reported. Two licenses were offered to Shanghai-based SAIC Motor Corp Ltd, and the other went to electric vehicle start-up NIO, Xinhua reported. NIO confirmed it received a license. There was no immediate comment from SAIC. The licenses would allow operators to test drive the vehicles on a 5.6-km (3.5-mile) public road in Jiading District of Shanghai, Xinhua said. The licenses were issued after Robin Li, the boss of China's biggest search engine Baidu, tested his firm's driverless car on Beijing's roads in July, stirring controversy as there were no rules for such a test, the agency said. NIO said it had received its license from Shanghai Municipal Government. \"We will now be able to further the development of our autonomous driving technologies,\" NIO Co-Founder and President Lihong Qin said in the statement. Read more: Driverless Taxis Mark 'End of Automotive Era' as Waymo Tests Self-Driving Cars Without Humans Shanghai also issued regulations on road tests for such smart cars and said it would promote the application and commercialization of vehicles using artificial intelligence technology and Internet-linked functions, Xinhua reported. \"Shanghai will open more roads for testing smart cars,\" Huang Ou, the deputy director of Shanghai Commission of Economy and Information Technology, said, according to the agency. Weekly magazine, delivered Daily Newsletter Website access Weekly magazine, delivered Daily Newsletter Website access Free access to 40+ digital editions Website access Daily Newsletter\n",
      "http://www.newsweek.com/self-driving-cars-finally-come-china-825845\n"
     ]
    }
   ],
   "source": [
    "print(df_check0['text'][0])\n",
    "print(df_check0['SourceURLs'][0])"
   ]
  },
  {
   "cell_type": "code",
   "execution_count": 67,
   "metadata": {},
   "outputs": [
    {
     "data": {
      "text/plain": [
       "str"
      ]
     },
     "execution_count": 67,
     "metadata": {},
     "output_type": "execute_result"
    }
   ],
   "source": [
    "type(df_check0['text'][0])"
   ]
  },
  {
   "cell_type": "code",
   "execution_count": 44,
   "metadata": {},
   "outputs": [
    {
     "name": "stdout",
     "output_type": "stream",
     "text": [
      "nan\n",
      "http://www.bjreview.com.cn/./Latest_Headlines/201803/t20180301_800118854.html<UDIV>http://www.bjreview.com/./Latest_Headlines/201803/t20180301_800118854.html\n"
     ]
    }
   ],
   "source": [
    "print(df_check0['text'][4])\n",
    "print(df_check0['SourceURLs'][4])"
   ]
  },
  {
   "cell_type": "code",
   "execution_count": 65,
   "metadata": {},
   "outputs": [
    {
     "data": {
      "text/plain": [
       "float"
      ]
     },
     "execution_count": 65,
     "metadata": {},
     "output_type": "execute_result"
    }
   ],
   "source": [
    "type(df_check0['text'][4])"
   ]
  },
  {
   "cell_type": "markdown",
   "metadata": {},
   "source": [
    "**Interestingly, if record is missing it is treated as float, so we have to use `.astype(str)` to convert it to string.**"
   ]
  },
  {
   "cell_type": "code",
   "execution_count": 46,
   "metadata": {},
   "outputs": [
    {
     "name": "stdout",
     "output_type": "stream",
     "text": [
      "nan\n",
      "https://factsweek.com/180611/self-driving-cars-global-market-analysis-by-trends-opportunities-challenges-revenue-forecast/\n"
     ]
    }
   ],
   "source": [
    "print(df_check0['text'][8])\n",
    "print(df_check0['SourceURLs'][8])"
   ]
  },
  {
   "cell_type": "code",
   "execution_count": 47,
   "metadata": {},
   "outputs": [
    {
     "name": "stdout",
     "output_type": "stream",
     "text": [
      "nan\n",
      "http://www.nbc-2.com/story/37612804/ford-and-miami-to-form-test-bed-for-self-driving-cars<UDIV>http://www.khq.com/story/37612804/ford-and-miami-to-form-test-bed-for-self-driving-cars<UDIV>http://www.wect.com/story/37612805/ford-and-miami-to-form-test-bed-for-self-driving-cars<UDIV>http://www.kztv10.com/story/37612804/ford-and-miami-to-form-test-bed-for-self-driving-cars<UDIV>http://www.abc-7.com/story/37612804/ford-and-miami-to-form-test-bed-for-self-driving-cars\n"
     ]
    }
   ],
   "source": [
    "print(df_check0['text'][13])\n",
    "print(df_check0['SourceURLs'][13])"
   ]
  },
  {
   "cell_type": "code",
   "execution_count": 49,
   "metadata": {},
   "outputs": [
    {
     "name": "stdout",
     "output_type": "stream",
     "text": [
      "nan\n",
      "http://iphonefresh.com/2018/03/01/california-to-allow-testing-self-driving-cars-with-no-driver.html\n"
     ]
    }
   ],
   "source": [
    "print(df_check0['text'][16])\n",
    "print(df_check0['SourceURLs'][16])"
   ]
  },
  {
   "cell_type": "code",
   "execution_count": 50,
   "metadata": {},
   "outputs": [
    {
     "name": "stdout",
     "output_type": "stream",
     "text": [
      "nan\n",
      "http://pimediaonline.co.uk/featuresinvestigations/should-our-self-driving-cars-be-utilitarian/\n"
     ]
    }
   ],
   "source": [
    "print(df_check0['text'][17])\n",
    "print(df_check0['SourceURLs'][17])"
   ]
  },
  {
   "cell_type": "code",
   "execution_count": 72,
   "metadata": {},
   "outputs": [
    {
     "data": {
      "text/html": [
       "<div>\n",
       "<style scoped>\n",
       "    .dataframe tbody tr th:only-of-type {\n",
       "        vertical-align: middle;\n",
       "    }\n",
       "\n",
       "    .dataframe tbody tr th {\n",
       "        vertical-align: top;\n",
       "    }\n",
       "\n",
       "    .dataframe thead th {\n",
       "        text-align: right;\n",
       "    }\n",
       "</style>\n",
       "<table border=\"1\" class=\"dataframe\">\n",
       "  <thead>\n",
       "    <tr style=\"text-align: right;\">\n",
       "      <th></th>\n",
       "      <th>Unnamed: 0</th>\n",
       "      <th>Date</th>\n",
       "      <th>NumArticles</th>\n",
       "      <th>Counts</th>\n",
       "      <th>Themes</th>\n",
       "      <th>Locations</th>\n",
       "      <th>Persons</th>\n",
       "      <th>Organizations</th>\n",
       "      <th>ToneData</th>\n",
       "      <th>CAMEOEvents</th>\n",
       "      <th>Sources</th>\n",
       "      <th>SourceURLs</th>\n",
       "      <th>text</th>\n",
       "    </tr>\n",
       "  </thead>\n",
       "  <tbody>\n",
       "    <tr>\n",
       "      <th>4</th>\n",
       "      <td>4</td>\n",
       "      <td>20180301</td>\n",
       "      <td>2</td>\n",
       "      <td>NaN</td>\n",
       "      <td>TAX_WORLDLANGUAGES;TAX_WORLDLANGUAGES_DEUTSCH;...</td>\n",
       "      <td>4#Shanghai, Shanghai, China#CH#CH23#31.2222#12...</td>\n",
       "      <td>li chungen;huang changjiang;deutsch fran</td>\n",
       "      <td>google;china tibet online china radio internat...</td>\n",
       "      <td>1.34328358208955,2.08955223880597,0.7462686567...</td>\n",
       "      <td>NaN</td>\n",
       "      <td>bjreview.com.cn;bjreview.com</td>\n",
       "      <td>http://www.bjreview.com.cn/./Latest_Headlines/...</td>\n",
       "      <td>NaN</td>\n",
       "    </tr>\n",
       "    <tr>\n",
       "      <th>8</th>\n",
       "      <td>8</td>\n",
       "      <td>20180301</td>\n",
       "      <td>1</td>\n",
       "      <td>NaN</td>\n",
       "      <td>NaN</td>\n",
       "      <td>1#China#CH#CH#35#105#CH;1#Japan#JA#JA#36#138#J...</td>\n",
       "      <td>mercedes-benz audi</td>\n",
       "      <td>sales price analysis company segment;technolog...</td>\n",
       "      <td>2.33812949640288,3.3273381294964,0.98920863309...</td>\n",
       "      <td>NaN</td>\n",
       "      <td>factsweek.com</td>\n",
       "      <td>https://factsweek.com/180611/self-driving-cars...</td>\n",
       "      <td>NaN</td>\n",
       "    </tr>\n",
       "    <tr>\n",
       "      <th>13</th>\n",
       "      <td>13</td>\n",
       "      <td>20180301</td>\n",
       "      <td>5</td>\n",
       "      <td>NaN</td>\n",
       "      <td>TAX_FNCACT;TAX_FNCACT_PILOT;EPU_ECONOMY_HISTOR...</td>\n",
       "      <td>3#Miami, Florida, United States#US#USFL#25.774...</td>\n",
       "      <td>john kwant;sam abuelsamid;sherif marakby;carlo...</td>\n",
       "      <td>google;nissan motor co;ford motor co;associate...</td>\n",
       "      <td>0.660611065235343,1.81668042939719,1.156069364...</td>\n",
       "      <td>NaN</td>\n",
       "      <td>nbc-2.com;khq.com;wect.com;kztv10.com;abc-7.com</td>\n",
       "      <td>http://www.nbc-2.com/story/37612804/ford-and-m...</td>\n",
       "      <td>NaN</td>\n",
       "    </tr>\n",
       "    <tr>\n",
       "      <th>16</th>\n",
       "      <td>16</td>\n",
       "      <td>20180301</td>\n",
       "      <td>1</td>\n",
       "      <td>NaN</td>\n",
       "      <td>TAX_FNCACT;TAX_FNCACT_DRIVER;ECON_STOCKMARKET;...</td>\n",
       "      <td>2#California, United States#US#USCA#36.17#-119...</td>\n",
       "      <td>eli lilly</td>\n",
       "      <td>fdx advisors inc;ocwen financial corp</td>\n",
       "      <td>3.38983050847458,3.38983050847458,0,3.38983050...</td>\n",
       "      <td>NaN</td>\n",
       "      <td>iphonefresh.com</td>\n",
       "      <td>http://iphonefresh.com/2018/03/01/california-t...</td>\n",
       "      <td>NaN</td>\n",
       "    </tr>\n",
       "    <tr>\n",
       "      <th>17</th>\n",
       "      <td>17</td>\n",
       "      <td>20180301</td>\n",
       "      <td>1</td>\n",
       "      <td>KILL#5##3#San Francisco, California, United St...</td>\n",
       "      <td>WB_2024_ANTI_CORRUPTION_AUTHORITIES;WB_696_PUB...</td>\n",
       "      <td>1#Germany#GM#GM#51.5#10.5#GM;3#San Francisco, ...</td>\n",
       "      <td>john zimmer;philippa foot</td>\n",
       "      <td>science technology should our self;massachuset...</td>\n",
       "      <td>-2.78044103547459,2.4928092042186,5.2732502396...</td>\n",
       "      <td>NaN</td>\n",
       "      <td>pimediaonline.co.uk</td>\n",
       "      <td>http://pimediaonline.co.uk/featuresinvestigati...</td>\n",
       "      <td>NaN</td>\n",
       "    </tr>\n",
       "    <tr>\n",
       "      <th>...</th>\n",
       "      <td>...</td>\n",
       "      <td>...</td>\n",
       "      <td>...</td>\n",
       "      <td>...</td>\n",
       "      <td>...</td>\n",
       "      <td>...</td>\n",
       "      <td>...</td>\n",
       "      <td>...</td>\n",
       "      <td>...</td>\n",
       "      <td>...</td>\n",
       "      <td>...</td>\n",
       "      <td>...</td>\n",
       "      <td>...</td>\n",
       "    </tr>\n",
       "    <tr>\n",
       "      <th>4043</th>\n",
       "      <td>4043</td>\n",
       "      <td>20180330</td>\n",
       "      <td>1</td>\n",
       "      <td>KILL#3##2#Oklahoma, United States#US#USOK#35.5...</td>\n",
       "      <td>KILL;TAX_WORLDMAMMALS;TAX_WORLDMAMMALS_HUMAN;W...</td>\n",
       "      <td>1#Japan#JA#JA#36#138#JA;2#Alabama, United Stat...</td>\n",
       "      <td>shoko asahara;aum shinrikyo;michael davis jr;d...</td>\n",
       "      <td>peoples intermediate court;walmart;sacramento ...</td>\n",
       "      <td>-5.68129330254042,3.09468822170901,8.775981524...</td>\n",
       "      <td>743329715,743329795,743329836,743193485,743329...</td>\n",
       "      <td>blogspot.com</td>\n",
       "      <td>https://deathpenaltynews.blogspot.com/2018/03/...</td>\n",
       "      <td>NaN</td>\n",
       "    </tr>\n",
       "    <tr>\n",
       "      <th>4051</th>\n",
       "      <td>4051</td>\n",
       "      <td>20180331</td>\n",
       "      <td>1</td>\n",
       "      <td>KILL#21##1#Georgia#GG#GG#41.999981#43.499905#G...</td>\n",
       "      <td>SOVEREIGNTY;TAX_ETHNICITY;TAX_ETHNICITY_GEORGI...</td>\n",
       "      <td>1#Latvia#LG#LG#57#25#LG;4#Moscow, Moskva, Russ...</td>\n",
       "      <td>zviad gamsakhurdia;pamela anderson;zaza soprom...</td>\n",
       "      <td>sustainable development dimitri kumsishvili;in...</td>\n",
       "      <td>-2.94225818315557,2.13313718278779,5.075395365...</td>\n",
       "      <td>NaN</td>\n",
       "      <td>georgianjournal.ge</td>\n",
       "      <td>https://www.georgianjournal.ge/society/34375-g...</td>\n",
       "      <td>NaN</td>\n",
       "    </tr>\n",
       "    <tr>\n",
       "      <th>4052</th>\n",
       "      <td>4052</td>\n",
       "      <td>20180331</td>\n",
       "      <td>1</td>\n",
       "      <td>NaN</td>\n",
       "      <td>TAX_WORLDLANGUAGES;TAX_WORLDLANGUAGES_OREGON;L...</td>\n",
       "      <td>2#Arizona, United States#US#USAZ#33.7712#-111....</td>\n",
       "      <td>sid leiken;andre dick</td>\n",
       "      <td>department of transportation;autonomous vehicl...</td>\n",
       "      <td>0.533333333333333,2.13333333333333,1.6,3.73333...</td>\n",
       "      <td>743464162,743477105</td>\n",
       "      <td>nbc16.com</td>\n",
       "      <td>http://nbc16.com/news/local/the-future-of-self...</td>\n",
       "      <td>NaN</td>\n",
       "    </tr>\n",
       "    <tr>\n",
       "      <th>4068</th>\n",
       "      <td>4068</td>\n",
       "      <td>20180331</td>\n",
       "      <td>1</td>\n",
       "      <td>NaN</td>\n",
       "      <td>TAX_FNCACT;TAX_FNCACT_WOMAN;KILL;CRISISLEX_T03...</td>\n",
       "      <td>3#Phoenix, Arizona, United States#US#USAZ#33.4...</td>\n",
       "      <td>elaine herzberg;patrick mcgroder</td>\n",
       "      <td>nvidia corp;toyota motor corp;uber technologie...</td>\n",
       "      <td>-4.90463215258856,0.272479564032698,5.17711171...</td>\n",
       "      <td>NaN</td>\n",
       "      <td>malaysiandigest.com</td>\n",
       "      <td>http://malaysiandigest.com/technology/730658-m...</td>\n",
       "      <td>NaN</td>\n",
       "    </tr>\n",
       "    <tr>\n",
       "      <th>4082</th>\n",
       "      <td>4082</td>\n",
       "      <td>20180331</td>\n",
       "      <td>12</td>\n",
       "      <td>NaN</td>\n",
       "      <td>TAX_FNCACT;TAX_FNCACT_WOMAN;KILL;CRISISLEX_T03...</td>\n",
       "      <td>3#Phoenix, Arizona, United States#US#USAZ#33.4...</td>\n",
       "      <td>elaine herzberg;chris prentice;patrick mcgrode...</td>\n",
       "      <td>nvidia corp;toyota motor corp;uber technologie...</td>\n",
       "      <td>-5.05050505050505,0.252525252525253,5.30303030...</td>\n",
       "      <td>NaN</td>\n",
       "      <td>kdal610.com;kelo.com;wkzo.com;whbl.com;wdsm710...</td>\n",
       "      <td>http://kdal610.com/news/articles/2018/mar/31/m...</td>\n",
       "      <td>NaN</td>\n",
       "    </tr>\n",
       "  </tbody>\n",
       "</table>\n",
       "<p>420 rows × 13 columns</p>\n",
       "</div>"
      ],
      "text/plain": [
       "      Unnamed: 0      Date  NumArticles  \\\n",
       "4              4  20180301            2   \n",
       "8              8  20180301            1   \n",
       "13            13  20180301            5   \n",
       "16            16  20180301            1   \n",
       "17            17  20180301            1   \n",
       "...          ...       ...          ...   \n",
       "4043        4043  20180330            1   \n",
       "4051        4051  20180331            1   \n",
       "4052        4052  20180331            1   \n",
       "4068        4068  20180331            1   \n",
       "4082        4082  20180331           12   \n",
       "\n",
       "                                                 Counts  \\\n",
       "4                                                   NaN   \n",
       "8                                                   NaN   \n",
       "13                                                  NaN   \n",
       "16                                                  NaN   \n",
       "17    KILL#5##3#San Francisco, California, United St...   \n",
       "...                                                 ...   \n",
       "4043  KILL#3##2#Oklahoma, United States#US#USOK#35.5...   \n",
       "4051  KILL#21##1#Georgia#GG#GG#41.999981#43.499905#G...   \n",
       "4052                                                NaN   \n",
       "4068                                                NaN   \n",
       "4082                                                NaN   \n",
       "\n",
       "                                                 Themes  \\\n",
       "4     TAX_WORLDLANGUAGES;TAX_WORLDLANGUAGES_DEUTSCH;...   \n",
       "8                                                   NaN   \n",
       "13    TAX_FNCACT;TAX_FNCACT_PILOT;EPU_ECONOMY_HISTOR...   \n",
       "16    TAX_FNCACT;TAX_FNCACT_DRIVER;ECON_STOCKMARKET;...   \n",
       "17    WB_2024_ANTI_CORRUPTION_AUTHORITIES;WB_696_PUB...   \n",
       "...                                                 ...   \n",
       "4043  KILL;TAX_WORLDMAMMALS;TAX_WORLDMAMMALS_HUMAN;W...   \n",
       "4051  SOVEREIGNTY;TAX_ETHNICITY;TAX_ETHNICITY_GEORGI...   \n",
       "4052  TAX_WORLDLANGUAGES;TAX_WORLDLANGUAGES_OREGON;L...   \n",
       "4068  TAX_FNCACT;TAX_FNCACT_WOMAN;KILL;CRISISLEX_T03...   \n",
       "4082  TAX_FNCACT;TAX_FNCACT_WOMAN;KILL;CRISISLEX_T03...   \n",
       "\n",
       "                                              Locations  \\\n",
       "4     4#Shanghai, Shanghai, China#CH#CH23#31.2222#12...   \n",
       "8     1#China#CH#CH#35#105#CH;1#Japan#JA#JA#36#138#J...   \n",
       "13    3#Miami, Florida, United States#US#USFL#25.774...   \n",
       "16    2#California, United States#US#USCA#36.17#-119...   \n",
       "17    1#Germany#GM#GM#51.5#10.5#GM;3#San Francisco, ...   \n",
       "...                                                 ...   \n",
       "4043  1#Japan#JA#JA#36#138#JA;2#Alabama, United Stat...   \n",
       "4051  1#Latvia#LG#LG#57#25#LG;4#Moscow, Moskva, Russ...   \n",
       "4052  2#Arizona, United States#US#USAZ#33.7712#-111....   \n",
       "4068  3#Phoenix, Arizona, United States#US#USAZ#33.4...   \n",
       "4082  3#Phoenix, Arizona, United States#US#USAZ#33.4...   \n",
       "\n",
       "                                                Persons  \\\n",
       "4              li chungen;huang changjiang;deutsch fran   \n",
       "8                                    mercedes-benz audi   \n",
       "13    john kwant;sam abuelsamid;sherif marakby;carlo...   \n",
       "16                                            eli lilly   \n",
       "17                            john zimmer;philippa foot   \n",
       "...                                                 ...   \n",
       "4043  shoko asahara;aum shinrikyo;michael davis jr;d...   \n",
       "4051  zviad gamsakhurdia;pamela anderson;zaza soprom...   \n",
       "4052                              sid leiken;andre dick   \n",
       "4068                   elaine herzberg;patrick mcgroder   \n",
       "4082  elaine herzberg;chris prentice;patrick mcgrode...   \n",
       "\n",
       "                                          Organizations  \\\n",
       "4     google;china tibet online china radio internat...   \n",
       "8     sales price analysis company segment;technolog...   \n",
       "13    google;nissan motor co;ford motor co;associate...   \n",
       "16                fdx advisors inc;ocwen financial corp   \n",
       "17    science technology should our self;massachuset...   \n",
       "...                                                 ...   \n",
       "4043  peoples intermediate court;walmart;sacramento ...   \n",
       "4051  sustainable development dimitri kumsishvili;in...   \n",
       "4052  department of transportation;autonomous vehicl...   \n",
       "4068  nvidia corp;toyota motor corp;uber technologie...   \n",
       "4082  nvidia corp;toyota motor corp;uber technologie...   \n",
       "\n",
       "                                               ToneData  \\\n",
       "4     1.34328358208955,2.08955223880597,0.7462686567...   \n",
       "8     2.33812949640288,3.3273381294964,0.98920863309...   \n",
       "13    0.660611065235343,1.81668042939719,1.156069364...   \n",
       "16    3.38983050847458,3.38983050847458,0,3.38983050...   \n",
       "17    -2.78044103547459,2.4928092042186,5.2732502396...   \n",
       "...                                                 ...   \n",
       "4043  -5.68129330254042,3.09468822170901,8.775981524...   \n",
       "4051  -2.94225818315557,2.13313718278779,5.075395365...   \n",
       "4052  0.533333333333333,2.13333333333333,1.6,3.73333...   \n",
       "4068  -4.90463215258856,0.272479564032698,5.17711171...   \n",
       "4082  -5.05050505050505,0.252525252525253,5.30303030...   \n",
       "\n",
       "                                            CAMEOEvents  \\\n",
       "4                                                   NaN   \n",
       "8                                                   NaN   \n",
       "13                                                  NaN   \n",
       "16                                                  NaN   \n",
       "17                                                  NaN   \n",
       "...                                                 ...   \n",
       "4043  743329715,743329795,743329836,743193485,743329...   \n",
       "4051                                                NaN   \n",
       "4052                                743464162,743477105   \n",
       "4068                                                NaN   \n",
       "4082                                                NaN   \n",
       "\n",
       "                                                Sources  \\\n",
       "4                          bjreview.com.cn;bjreview.com   \n",
       "8                                         factsweek.com   \n",
       "13      nbc-2.com;khq.com;wect.com;kztv10.com;abc-7.com   \n",
       "16                                      iphonefresh.com   \n",
       "17                                  pimediaonline.co.uk   \n",
       "...                                                 ...   \n",
       "4043                                       blogspot.com   \n",
       "4051                                 georgianjournal.ge   \n",
       "4052                                          nbc16.com   \n",
       "4068                                malaysiandigest.com   \n",
       "4082  kdal610.com;kelo.com;wkzo.com;whbl.com;wdsm710...   \n",
       "\n",
       "                                             SourceURLs text  \n",
       "4     http://www.bjreview.com.cn/./Latest_Headlines/...  NaN  \n",
       "8     https://factsweek.com/180611/self-driving-cars...  NaN  \n",
       "13    http://www.nbc-2.com/story/37612804/ford-and-m...  NaN  \n",
       "16    http://iphonefresh.com/2018/03/01/california-t...  NaN  \n",
       "17    http://pimediaonline.co.uk/featuresinvestigati...  NaN  \n",
       "...                                                 ...  ...  \n",
       "4043  https://deathpenaltynews.blogspot.com/2018/03/...  NaN  \n",
       "4051  https://www.georgianjournal.ge/society/34375-g...  NaN  \n",
       "4052  http://nbc16.com/news/local/the-future-of-self...  NaN  \n",
       "4068  http://malaysiandigest.com/technology/730658-m...  NaN  \n",
       "4082  http://kdal610.com/news/articles/2018/mar/31/m...  NaN  \n",
       "\n",
       "[420 rows x 13 columns]"
      ]
     },
     "execution_count": 72,
     "metadata": {},
     "output_type": "execute_result"
    }
   ],
   "source": [
    "df_check0[ df_check0['text'].astype(str) == 'nan' ]"
   ]
  },
  {
   "cell_type": "code",
   "execution_count": 86,
   "metadata": {},
   "outputs": [
    {
     "data": {
      "text/plain": [
       "(420, 13)"
      ]
     },
     "execution_count": 86,
     "metadata": {},
     "output_type": "execute_result"
    }
   ],
   "source": [
    "df_check0[ df_check0['text'].astype(str) == 'nan' ].shape"
   ]
  },
  {
   "cell_type": "markdown",
   "metadata": {},
   "source": [
    "## Check Data and Re-Download Failed Articles"
   ]
  },
  {
   "cell_type": "code",
   "execution_count": 27,
   "metadata": {},
   "outputs": [],
   "source": [
    "df_check1 = pd.read_csv(\"../data/processed/20191209233601.19044.gkg.txt\", sep='\\t', index_col=0)"
   ]
  },
  {
   "cell_type": "code",
   "execution_count": 28,
   "metadata": {},
   "outputs": [
    {
     "data": {
      "text/plain": [
       "(4089, 12)"
      ]
     },
     "execution_count": 28,
     "metadata": {},
     "output_type": "execute_result"
    }
   ],
   "source": [
    "df_check1.shape"
   ]
  },
  {
   "cell_type": "code",
   "execution_count": 29,
   "metadata": {},
   "outputs": [
    {
     "name": "stdout",
     "output_type": "stream",
     "text": [
      "<class 'pandas.core.frame.DataFrame'>\n",
      "Int64Index: 4089 entries, 0 to 4088\n",
      "Data columns (total 12 columns):\n",
      "Date             4089 non-null int64\n",
      "NumArticles      4089 non-null int64\n",
      "Counts           586 non-null object\n",
      "Themes           4001 non-null object\n",
      "Locations        4089 non-null object\n",
      "Persons          3578 non-null object\n",
      "Organizations    3771 non-null object\n",
      "ToneData         4089 non-null object\n",
      "CAMEOEvents      2222 non-null object\n",
      "Sources          4089 non-null object\n",
      "SourceURLs       4089 non-null object\n",
      "text             3669 non-null object\n",
      "dtypes: int64(2), object(10)\n",
      "memory usage: 415.3+ KB\n"
     ]
    }
   ],
   "source": [
    "df_check1.info()"
   ]
  },
  {
   "cell_type": "code",
   "execution_count": 21,
   "metadata": {},
   "outputs": [
    {
     "data": {
      "text/plain": [
       "'The company is partnering with Domino\\'s Pizza and others to see how consumers react. DETROIT — Ford Motor Co. is making Miami-Dade County its new test area for self-driving vehicles. The automaker and its partners – Domino’s Pizza, ride-hailing company Lyft and delivery company Postmates – are starting pilot programs to see how consumers react to autonomous and semi-autonomous vehicles. Self-driving startup and Ford partner Argo AI already has a fleet of cars in the area making the highly detailed maps that are necessary for self-driving. Ford also will establish its first-ever autonomous vehicle terminal in Miami, where it will learn how to service and deploy its test fleet. More services will likely be introduced as the partnership goes on, including Chariot, an app-based shuttle service owned by Ford. It’s all part of Ford’s effort to find viable business models for fully autonomous vehicles and get them on the road by 2021. “This is, I think, the future of any automotive company or mobility company. If a majority of the world’s population is going to be living in cities, we need to understand how to move those people around,” said John Kwant, Ford’s vice president of city solutions, who inked the deal with Miami-Dade. Ford isn’t the first automaker to run test fleets of autonomous vehicles. General Motors Co. will start testing autonomous vehicles in New York City this year, while Nissan Motor Co. is launching an autonomous taxi service in Yokohama, Japan, next week. Technology companies like Waymo – a division of Google – are also testing self-driving vehicles on public roads in Phoenix, San Francisco and Singapore, among other cities. But the partnership with a specific metropolitan area is less common. Both sides envision a deep relationship where Ford can help Miami-Dade solve specific problems, like how to most efficiently move people from its suburbs to its downtown monorail, and Miami-Dade can offer solutions like dedicated lanes for automated vehicles or infrastructure projects like advanced traffic lights that can send signals to connected cars. “We want to be on the forefront of this because we want to give our people choices,” said Carlos Gimenez, the mayor of Miami-Dade County, which is home to 34 cities and 2.7 million people. Sherif Marakby, Ford’s vice president of autonomous vehicles and electrification, says the company also intends to work closely with local businesses. The company wants to learn, for example, how a florist might use an autonomous delivery vehicle. “Autonomous vehicle technology is interesting, but it’s a whole lot more interesting with a viable business model,” he said. The city of Miami is the fifth-most congested in the U.S., according to a recent traffic study by the consulting firm Inrix. After more than a century of selling people vehicles, Kwant says Ford now wants to figure out ways to move people more efficiently in order to cut down on that time in traffic. Sam Abuelsamid, a senior research analyst with the consulting firm Navigant Research, says Ford and others must figure out how to make money on self-driving cars. “If this does take off, if people do adopt automated vehicles and use them for ride-hailing, that’s going to result in a decline in retail vehicle sales,” Abuelsamid said. “They need to figure out, if we’re going to have a decline in the number of vehicles we sell to consumers, how do we keep our business stable?” Kwant says the testing will also help Ford determine what its future self-driving vehicles need to look like and how they must perform. “If you don’t have steering wheels, how do you begin to use that package space? How do you begin to look different in terms of carrying more people?” he said. Ford won’t say how many vehicles it will have on the road in Miami-Dade, but says it will be Ford’s largest test area for autonomous vehicles by the end of this year. All of the vehicles will have backup safety drivers. Domino’s experimental vehicles aren’t even technically autonomous; they’re equipped to be, but for now they have actual drivers. The windows are blacked out so customers can experience how to get pizza from the car without dealing with a person. Miami will give Ford new challenges. Previously, it tested Domino’s cars in suburban Michigan, where parking wasn’t an issue. But in busy Miami Beach, the cars will have to figure out where they can go to allow apartment-dwellers to safely retrieve their pizzas. An autonomous delivery vehicle from Postmates might have to switch between Spanish and English commands when it picks up a meal and delivers it to a customer. Self-driving Lyft vehicles will be tasked with mapping out the best places to wait for customers without causing more traffic headaches. Kwant says Ford will announce more city partnerships as this year progresses. But Miami-Dade was a natural, since it has good weather, lots of different urban and suburban terrain and support from Gimenez and other government leaders. Gimenez, who began talking to Ford in 2017 at the Consumer Electronics Show in Las Vegas, says he’s not worried about consumer acceptance of self-driving cars. He thinks his community will embrace them as companies prove that shared autonomous vehicles can be cheaper and safer than regular ones. Gimenez says self-driving vehicles also can potentially improve traffic flow without significant new investments in roadways. They can travel more closely together, for example, because they’re always watching the car in front of them and can brake automatically.”That’s why I’m really high on this technology,” he said. var mediaContent = \"media\\\\\\\\:content,content\"; (function() { var now = new Date(); var cookieName = new RegExp(\\'MSPAN_Paywall_views_\\' + now.getMonth()); window.MSPAN = { Paywall: { totalViews: function() { var cookies = document.cookie.split(\\'; \\'); var val = 0; if (!cookieName.test(document.cookie)) { return 0; } for (var i = 0; i < cookies.length; i++) { if (cookieName.test(cookies[i])) { val = parseInt(cookies[i].split(\\'=\\')[1]); } } return val; } } }; }()); (function(){ \"use strict\"; if(/logout/.test(window.location.search)){ var date = new Date(); var cookieString = \"MSPAN_Paywall_user=0; domain=.\"+document.location.host.replace(/^\\\\w+\\\\./, \\'\\')+\"; path=/; expires=\" + date.toGMTString(); var cookieString2 = \"MSPAN_Paywall_user=0; domain=\"+document.location.host+\"; path=/; expires=\" + date.toGMTString(); date.setHours(date.getHours() - 1); document.cookie = cookieString; document.cookie = cookieString2; } }());'"
      ]
     },
     "execution_count": 21,
     "metadata": {},
     "output_type": "execute_result"
    }
   ],
   "source": [
    "df_check1['text'][7]"
   ]
  },
  {
   "cell_type": "code",
   "execution_count": 22,
   "metadata": {},
   "outputs": [
    {
     "data": {
      "text/plain": [
       "(35, 13)"
      ]
     },
     "execution_count": 22,
     "metadata": {},
     "output_type": "execute_result"
    }
   ],
   "source": [
    "df_check1[ df_check1['text'].astype(str).str.contains('Authentication is required to access the Internet') ].shape"
   ]
  },
  {
   "cell_type": "code",
   "execution_count": 23,
   "metadata": {},
   "outputs": [],
   "source": [
    "df_check1_re = df_check1[ df_check1['text'].astype(str).str.contains('Authentication is required to access the Internet') ]['SourceURLs']"
   ]
  },
  {
   "cell_type": "code",
   "execution_count": 24,
   "metadata": {},
   "outputs": [
    {
     "data": {
      "text/plain": [
       "(35,)"
      ]
     },
     "execution_count": 24,
     "metadata": {},
     "output_type": "execute_result"
    }
   ],
   "source": [
    "df_check1_re.shape"
   ]
  },
  {
   "cell_type": "code",
   "execution_count": 25,
   "metadata": {},
   "outputs": [
    {
     "name": "stdout",
     "output_type": "stream",
     "text": [
      "4100 4110 4120 "
     ]
    },
    {
     "name": "stderr",
     "output_type": "stream",
     "text": [
      "/opt/anaconda3/envs/py37_NLP/lib/python3.7/site-packages/pandas/core/indexing.py:205: SettingWithCopyWarning: \n",
      "A value is trying to be set on a copy of a slice from a DataFrame\n",
      "\n",
      "See the caveats in the documentation: http://pandas.pydata.org/pandas-docs/stable/user_guide/indexing.html#returning-a-view-versus-a-copy\n",
      "  self._setitem_with_indexer(indexer, value)\n",
      "/opt/anaconda3/envs/py37_NLP/lib/python3.7/site-packages/IPython/core/interactiveshell.py:3319: SettingWithCopyWarning: \n",
      "A value is trying to be set on a copy of a slice from a DataFrame\n",
      "\n",
      "See the caveats in the documentation: http://pandas.pydata.org/pandas-docs/stable/user_guide/indexing.html#returning-a-view-versus-a-copy\n",
      "  last_expr = (await self._async_exec(code_obj, self.user_ns))\n"
     ]
    }
   ],
   "source": [
    "df_check1_re['text'] = df_check1[ df_check1['text'].astype(str).str.contains('Authentication is required to access the Internet') ]['SourceURLs'].apply(lambda x: gettext(x))"
   ]
  },
  {
   "cell_type": "code",
   "execution_count": 26,
   "metadata": {},
   "outputs": [
    {
     "data": {
      "text/plain": [
       "849                                                      \n",
       "850                                                      \n",
       "851                                                      \n",
       "852                                                      \n",
       "853     Wards Auto is part of the Informa Tech Divisio...\n",
       "854                                                      \n",
       "946                                                      \n",
       "947                                                      \n",
       "948                                                      \n",
       "949     There was a problem serving your request. Plea...\n",
       "950                                                      \n",
       "951     It seems we can’t find what you’re looking for...\n",
       "952                                                      \n",
       "953                                                      \n",
       "954                                                      \n",
       "955                                                      \n",
       "956                                                      \n",
       "1499    A self-driving Uber SUV struck and killed a pe...\n",
       "1500    The page may have moved, you may have mistyped...\n",
       "1763    Abundant sunshine. High 59F. Winds S at 10 to ...\n",
       "2219                                                     \n",
       "2220                                                     \n",
       "2221    A woman has been struck and killed by an Uber ...\n",
       "2222    A mix of clouds and sun. High 33F. Winds WSW a...\n",
       "2457    DETROIT (AP) — The deadly collision between an...\n",
       "2917    The host name resolution (DNS lookup) for this...\n",
       "2918    Video released by the Tempe Police Department ...\n",
       "2919                                                     \n",
       "3072    The host name resolution (DNS lookup) for this...\n",
       "3073    Self-driving car fatal accident A pedestrian i...\n",
       "3308    By continuing to use this site you consent to ...\n",
       "3309    The Waymo driverless car is displayed during a...\n",
       "3310    There are always some casualties when a new fo...\n",
       "3311    Fleet Owner is part of the Business Intelligen...\n",
       "3645                                                     \n",
       "Name: SourceURLs, dtype: object"
      ]
     },
     "execution_count": 26,
     "metadata": {},
     "output_type": "execute_result"
    }
   ],
   "source": [
    "df_check1_re['text']"
   ]
  },
  {
   "cell_type": "code",
   "execution_count": 73,
   "metadata": {},
   "outputs": [
    {
     "data": {
      "text/plain": [
       "'Wards Auto is part of the Informa Tech Division of Informa PLC This site is operated by a business or businesses owned by Informa PLC and all copyright resides with them. Informa PLC\\'s registered office is 5 Howick Place, London SW1P 1WG. Registered in England and Wales. Number 8860726. BERLIN, March 15 (Reuters) - The Chinese government is evaluating a German law that lays the groundwork for use of self-driving cars, and will likely adopt some of the German rules, a legal expert said on Thursday. Eric Hilgendorf, who teaches law at the University of Wuerzburg and served on the German government\\'s ethics commission on automated driving, said he had been invited to China in the coming weeks to present information about the law. Hilgendorf, who will give three lectures at the Renmin University of China Law School and hold high-level meetings about the new legislation, said China had adopted a great deal of German criminal and civil law, albeit with some tweaks, and he expected similar action in this case. \"Especially when it comes to technical issues, they\\'re often ready to adopt large sections of our law,\" he told Reuters after a speech at an Aspen Institute conference on artificial intelligence. German carmakers could benefit if China adopted similar laws and guidelines on the issue, Hilgendorf said, noting it would mean fewer modifications for exports to China. Carmakers around the world are teaming up with technology companies in areas such as machine learning and mapping as they race against Silicon Valley companies such as Google, Tesla and Apple to develop autonomous vehicles. Both industries see huge potential revenues in the market for autonomous vehicles, which could be available for wide use in just two years. But it remains unclear how many drivers will be ready to give up control, and many countries must still put laws in place to allow self-driving cars to hit the road. Germany last year paved the way for testing self-driving cars with a law that requires a driver to be sitting behind the wheel at all times ready to take back control if prompted to do so by the vehicle. German carmakers, Volkswagen, Daimler and BMW, have all invested heavily in the technology. The new legislation allows them to road-test vehicles in which drivers will be allowed to take their hands off the wheel and their eyes off the road to browse the web or check e-mails while the vehicle handles steering or braking autonomously. Hilgendorf was part of the government-appointed committee that drew up the world\\'s first ethics guidelines for the field of autonomous cars, including a requirement for the software that controls them to be programmed to avoid injury or death of people at all cost. (Reporting by Andrea Shalal Editing by Mark Potter)'"
      ]
     },
     "execution_count": 73,
     "metadata": {},
     "output_type": "execute_result"
    }
   ],
   "source": [
    "df_check1_re['text'][853]"
   ]
  },
  {
   "cell_type": "code",
   "execution_count": 75,
   "metadata": {},
   "outputs": [
    {
     "data": {
      "text/plain": [
       "'Authentication is required to access the Internet using this system. A valid user ID and password must be entered when prompted. If you have questions, please contact GM Online Service Desk and provide the codes shown below. Date: Thu, 12 Dec 2019 06:47:55 GMT Username: Source IP: 10.45.142.170 URL: GET http://wardsauto.com/china-may-adopt-some-germanys-law-self-driving-cars-expert Category: Reason: UNKNOWN Notification: PROXY_AUTH_REQUIRED'"
      ]
     },
     "execution_count": 75,
     "metadata": {},
     "output_type": "execute_result"
    }
   ],
   "source": [
    "df_check1['text'][853]"
   ]
  },
  {
   "cell_type": "code",
   "execution_count": 77,
   "metadata": {},
   "outputs": [
    {
     "data": {
      "text/plain": [
       "'Authentication is required to access the Internet using this system. A valid user ID and password must be entered when prompted. If you have questions, please contact GM Online Service Desk and provide the codes shown below. Date: Thu, 12 Dec 2019 06:47:55 GMT Username: Source IP: 10.45.142.170 URL: GET http://wardsauto.com/china-may-adopt-some-germanys-law-self-driving-cars-expert Category: Reason: UNKNOWN Notification: PROXY_AUTH_REQUIRED'"
      ]
     },
     "execution_count": 77,
     "metadata": {},
     "output_type": "execute_result"
    }
   ],
   "source": [
    "df_check1['text'].iloc[853]"
   ]
  },
  {
   "cell_type": "code",
   "execution_count": 83,
   "metadata": {},
   "outputs": [],
   "source": [
    "for i,record in df_check1_re['text'].items():\n",
    "    #print(i, record)\n",
    "    df_check1['text'].iloc[i] = record"
   ]
  },
  {
   "cell_type": "code",
   "execution_count": 84,
   "metadata": {},
   "outputs": [
    {
     "data": {
      "text/plain": [
       "'Wards Auto is part of the Informa Tech Division of Informa PLC This site is operated by a business or businesses owned by Informa PLC and all copyright resides with them. Informa PLC\\'s registered office is 5 Howick Place, London SW1P 1WG. Registered in England and Wales. Number 8860726. BERLIN, March 15 (Reuters) - The Chinese government is evaluating a German law that lays the groundwork for use of self-driving cars, and will likely adopt some of the German rules, a legal expert said on Thursday. Eric Hilgendorf, who teaches law at the University of Wuerzburg and served on the German government\\'s ethics commission on automated driving, said he had been invited to China in the coming weeks to present information about the law. Hilgendorf, who will give three lectures at the Renmin University of China Law School and hold high-level meetings about the new legislation, said China had adopted a great deal of German criminal and civil law, albeit with some tweaks, and he expected similar action in this case. \"Especially when it comes to technical issues, they\\'re often ready to adopt large sections of our law,\" he told Reuters after a speech at an Aspen Institute conference on artificial intelligence. German carmakers could benefit if China adopted similar laws and guidelines on the issue, Hilgendorf said, noting it would mean fewer modifications for exports to China. Carmakers around the world are teaming up with technology companies in areas such as machine learning and mapping as they race against Silicon Valley companies such as Google, Tesla and Apple to develop autonomous vehicles. Both industries see huge potential revenues in the market for autonomous vehicles, which could be available for wide use in just two years. But it remains unclear how many drivers will be ready to give up control, and many countries must still put laws in place to allow self-driving cars to hit the road. Germany last year paved the way for testing self-driving cars with a law that requires a driver to be sitting behind the wheel at all times ready to take back control if prompted to do so by the vehicle. German carmakers, Volkswagen, Daimler and BMW, have all invested heavily in the technology. The new legislation allows them to road-test vehicles in which drivers will be allowed to take their hands off the wheel and their eyes off the road to browse the web or check e-mails while the vehicle handles steering or braking autonomously. Hilgendorf was part of the government-appointed committee that drew up the world\\'s first ethics guidelines for the field of autonomous cars, including a requirement for the software that controls them to be programmed to avoid injury or death of people at all cost. (Reporting by Andrea Shalal Editing by Mark Potter)'"
      ]
     },
     "execution_count": 84,
     "metadata": {},
     "output_type": "execute_result"
    }
   ],
   "source": [
    "df_check1['text'][853]"
   ]
  },
  {
   "cell_type": "code",
   "execution_count": 85,
   "metadata": {},
   "outputs": [
    {
     "data": {
      "text/plain": [
       "(0, 12)"
      ]
     },
     "execution_count": 85,
     "metadata": {},
     "output_type": "execute_result"
    }
   ],
   "source": [
    "df_check1[ df_check1['text'].astype(str).str.contains('Authentication is required to access the Internet') ].shape"
   ]
  },
  {
   "cell_type": "code",
   "execution_count": 87,
   "metadata": {},
   "outputs": [],
   "source": [
    "df_check1.to_csv(\"../data/processed/20191209233601.19044.gkg.txt\", sep='\\t')"
   ]
  },
  {
   "cell_type": "code",
   "execution_count": null,
   "metadata": {},
   "outputs": [],
   "source": []
  }
 ],
 "metadata": {
  "kernelspec": {
   "display_name": "Python 3",
   "language": "python",
   "name": "python3"
  },
  "language_info": {
   "codemirror_mode": {
    "name": "ipython",
    "version": 3
   },
   "file_extension": ".py",
   "mimetype": "text/x-python",
   "name": "python",
   "nbconvert_exporter": "python",
   "pygments_lexer": "ipython3",
   "version": "3.7.5"
  }
 },
 "nbformat": 4,
 "nbformat_minor": 4
}
