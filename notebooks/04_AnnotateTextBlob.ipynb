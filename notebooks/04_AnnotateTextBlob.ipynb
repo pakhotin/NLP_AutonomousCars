{
 "cells": [
  {
   "cell_type": "markdown",
   "metadata": {},
   "source": [
    "# Annotation and Sentiment Analysis with TextBlob"
   ]
  },
  {
   "cell_type": "markdown",
   "metadata": {},
   "source": [
    "**Initiate libraries:**"
   ]
  },
  {
   "cell_type": "code",
   "execution_count": 1,
   "metadata": {},
   "outputs": [
    {
     "name": "stdout",
     "output_type": "stream",
     "text": [
      "The history saving thread hit an unexpected error (DatabaseError('database disk image is malformed')).History will not be written to the database.\n"
     ]
    }
   ],
   "source": [
    "import pandas as pd\n",
    "import nltk\n",
    "from textblob import TextBlob"
   ]
  },
  {
   "cell_type": "code",
   "execution_count": 26,
   "metadata": {},
   "outputs": [],
   "source": [
    "import matplotlib.pyplot as plt\n",
    "plt.rcParams['figure.figsize'] = [10, 10]"
   ]
  },
  {
   "cell_type": "code",
   "execution_count": 3,
   "metadata": {},
   "outputs": [
    {
     "name": "stderr",
     "output_type": "stream",
     "text": [
      "[nltk_data] Downloading package punkt to /home/tz5b44/nltk_data...\n",
      "[nltk_data]   Package punkt is already up-to-date!\n",
      "[nltk_data] Downloading package averaged_perceptron_tagger to\n",
      "[nltk_data]     /home/tz5b44/nltk_data...\n",
      "[nltk_data]   Package averaged_perceptron_tagger is already up-to-\n",
      "[nltk_data]       date!\n",
      "[nltk_data] Downloading package brown to /home/tz5b44/nltk_data...\n",
      "[nltk_data]   Package brown is already up-to-date!\n"
     ]
    },
    {
     "data": {
      "text/plain": [
       "True"
      ]
     },
     "execution_count": 3,
     "metadata": {},
     "output_type": "execute_result"
    }
   ],
   "source": [
    "nltk.download('punkt')\n",
    "nltk.download('averaged_perceptron_tagger')\n",
    "nltk.download('brown')"
   ]
  },
  {
   "cell_type": "markdown",
   "metadata": {},
   "source": [
    "**Read in data from file:**"
   ]
  },
  {
   "cell_type": "code",
   "execution_count": 4,
   "metadata": {},
   "outputs": [],
   "source": [
    "df = pd.read_csv(\"../data/processed/20191209233601.19044.gkg.Labeled.txt\", sep='\\t', index_col=0)\n",
    "df.Date = pd.to_datetime(df.Date, format=\"%Y%m%d\")"
   ]
  },
  {
   "cell_type": "code",
   "execution_count": 5,
   "metadata": {},
   "outputs": [
    {
     "name": "stdout",
     "output_type": "stream",
     "text": [
      "<class 'pandas.core.frame.DataFrame'>\n",
      "Int64Index: 4089 entries, 0 to 4088\n",
      "Data columns (total 13 columns):\n",
      "Date             4089 non-null datetime64[ns]\n",
      "NumArticles      4089 non-null int64\n",
      "Counts           586 non-null object\n",
      "Themes           4001 non-null object\n",
      "Locations        4089 non-null object\n",
      "Persons          3578 non-null object\n",
      "Organizations    3771 non-null object\n",
      "ToneData         4089 non-null object\n",
      "CAMEOEvents      2222 non-null object\n",
      "Sources          4089 non-null object\n",
      "SourceURLs       4089 non-null object\n",
      "text             3478 non-null object\n",
      "label            4089 non-null int64\n",
      "dtypes: datetime64[ns](1), int64(2), object(10)\n",
      "memory usage: 447.2+ KB\n"
     ]
    }
   ],
   "source": [
    "df.info()"
   ]
  },
  {
   "cell_type": "markdown",
   "metadata": {},
   "source": [
    "**Annotate one record:**"
   ]
  },
  {
   "cell_type": "code",
   "execution_count": 6,
   "metadata": {},
   "outputs": [],
   "source": [
    "blob = TextBlob(df['text'][3])"
   ]
  },
  {
   "cell_type": "markdown",
   "metadata": {},
   "source": [
    "**Print out tags:**"
   ]
  },
  {
   "cell_type": "code",
   "execution_count": 7,
   "metadata": {},
   "outputs": [
    {
     "data": {
      "text/plain": [
       "[('WASHINGTON', 'NNP'),\n",
       " ('Reuters', 'NNP'),\n",
       " ('U.S.', 'NNP'),\n",
       " ('Transportation', 'NNP'),\n",
       " ('Secretary', 'NNP'),\n",
       " ('Elaine', 'NNP'),\n",
       " ('Chao', 'NNP'),\n",
       " ('said', 'VBD'),\n",
       " ('on', 'IN'),\n",
       " ('Thursday', 'NNP'),\n",
       " ('that', 'IN'),\n",
       " ('regulators', 'NNS'),\n",
       " ('will', 'MD'),\n",
       " ('seek', 'VB'),\n",
       " ('public', 'JJ'),\n",
       " ('input', 'NN'),\n",
       " ('on', 'IN'),\n",
       " ('rules', 'NNS'),\n",
       " ('for', 'IN'),\n",
       " ('self-driving', 'JJ'),\n",
       " ('commercial', 'JJ'),\n",
       " ('vehicles', 'NNS'),\n",
       " ('and', 'CC'),\n",
       " ('trains', 'NNS'),\n",
       " ('as', 'IN'),\n",
       " ('the', 'DT'),\n",
       " ('administration', 'NN'),\n",
       " ('grapples', 'VBZ'),\n",
       " ('with', 'IN'),\n",
       " ('how', 'WRB'),\n",
       " ('to', 'TO'),\n",
       " ('regulate', 'VB'),\n",
       " ('their', 'PRP$'),\n",
       " ('expected', 'JJ'),\n",
       " ('future', 'NN'),\n",
       " ('use', 'NN'),\n",
       " ('At', 'IN'),\n",
       " ('a', 'DT'),\n",
       " ('speech', 'NN'),\n",
       " ('in', 'IN'),\n",
       " ('Washington', 'NNP'),\n",
       " ('Chao', 'NNP'),\n",
       " ('said', 'VBD'),\n",
       " ('the', 'DT'),\n",
       " ('Federal', 'NNP'),\n",
       " ('Motor', 'NNP'),\n",
       " ('Carrier', 'NNP'),\n",
       " ('Safety', 'NNP'),\n",
       " ('Administration', 'NNP'),\n",
       " ('was', 'VBD'),\n",
       " ('asking', 'VBG'),\n",
       " ('for', 'IN'),\n",
       " ('public', 'JJ'),\n",
       " ('comment', 'NN'),\n",
       " ('on', 'IN'),\n",
       " ('regulations', 'NNS'),\n",
       " ('that', 'WDT'),\n",
       " ('need', 'VBP'),\n",
       " ('revising', 'VBG'),\n",
       " ('or', 'CC'),\n",
       " ('eliminating', 'VBG'),\n",
       " ('to', 'TO'),\n",
       " ('“', 'VB'),\n",
       " ('facilitate', 'VB'),\n",
       " ('the', 'DT'),\n",
       " ('safe', 'JJ'),\n",
       " ('introduction', 'NN'),\n",
       " ('of', 'IN'),\n",
       " ('automated', 'JJ'),\n",
       " ('technology', 'NN'),\n",
       " ('on', 'IN'),\n",
       " ('commercial', 'JJ'),\n",
       " ('motor', 'NN'),\n",
       " ('vehicles', 'NNS'),\n",
       " ('”', 'VBP'),\n",
       " ('like', 'IN'),\n",
       " ('large', 'JJ'),\n",
       " ('trucks', 'NNS'),\n",
       " ('In', 'IN'),\n",
       " ('addition', 'NN'),\n",
       " ('the', 'DT'),\n",
       " ('Federal', 'NNP'),\n",
       " ('Railroad', 'NNP'),\n",
       " ('Administration', 'NNP'),\n",
       " ('“', 'NNP'),\n",
       " ('is', 'VBZ'),\n",
       " ('requesting', 'VBG'),\n",
       " ('information', 'NN'),\n",
       " ('and', 'CC'),\n",
       " ('comment', 'NN'),\n",
       " ('on', 'IN'),\n",
       " ('the', 'DT'),\n",
       " ('future', 'NN'),\n",
       " ('of', 'IN'),\n",
       " ('automation', 'NN'),\n",
       " ('in', 'IN'),\n",
       " ('the', 'DT'),\n",
       " ('railroad', 'NN'),\n",
       " ('industry.', 'NN'),\n",
       " ('”', 'NN'),\n",
       " ('Officials', 'NNS'),\n",
       " ('are', 'VBP'),\n",
       " ('also', 'RB'),\n",
       " ('weighing', 'VBG'),\n",
       " ('how', 'WRB'),\n",
       " ('self-driving', 'JJ'),\n",
       " ('vehicles', 'NNS'),\n",
       " ('will', 'MD'),\n",
       " ('impact', 'VB'),\n",
       " ('ports', 'NNS'),\n",
       " ('and', 'CC'),\n",
       " ('other', 'JJ'),\n",
       " ('transportation', 'NN'),\n",
       " ('issues', 'NNS'),\n",
       " ('General', 'NNP'),\n",
       " ('Motors', 'NNPS'),\n",
       " ('Co', 'NNP'),\n",
       " ('Alphabet', 'NNP'),\n",
       " ('Inc', 'NNP'),\n",
       " ('and', 'CC'),\n",
       " ('many', 'JJ'),\n",
       " ('other', 'JJ'),\n",
       " ('companies', 'NNS'),\n",
       " ('are', 'VBP'),\n",
       " ('pursuing', 'VBG'),\n",
       " ('self-driving', 'JJ'),\n",
       " ('car', 'NN'),\n",
       " ('technologies', 'NNS'),\n",
       " ('and', 'CC'),\n",
       " ('want', 'VBP'),\n",
       " ('Congress', 'NNP'),\n",
       " ('and', 'CC'),\n",
       " ('regulators', 'NNS'),\n",
       " ('to', 'TO'),\n",
       " ('remove', 'VB'),\n",
       " ('legal', 'JJ'),\n",
       " ('barriers', 'NNS'),\n",
       " ('to', 'TO'),\n",
       " ('the', 'DT'),\n",
       " ('vehicles', 'NNS'),\n",
       " ('Chao', 'NNP'),\n",
       " ('was', 'VBD'),\n",
       " ('talking', 'VBG'),\n",
       " ('at', 'IN'),\n",
       " ('a', 'DT'),\n",
       " ('summit', 'NN'),\n",
       " ('on', 'IN'),\n",
       " ('the', 'DT'),\n",
       " ('topic', 'NN'),\n",
       " ('held', 'VBN'),\n",
       " ('by', 'IN'),\n",
       " ('the', 'DT'),\n",
       " ('U.S.', 'NNP'),\n",
       " ('National', 'NNP'),\n",
       " ('Highway', 'NNP'),\n",
       " ('Traffic', 'NNP'),\n",
       " ('Safety', 'NNP'),\n",
       " ('Administration', 'NNP'),\n",
       " ('NHTSA', 'NNP'),\n",
       " ('on', 'IN'),\n",
       " ('Thursday', 'NNP'),\n",
       " ('She', 'PRP'),\n",
       " ('said', 'VBD'),\n",
       " ('earlier', 'RBR'),\n",
       " ('this', 'DT'),\n",
       " ('week', 'NN'),\n",
       " ('that', 'IN'),\n",
       " ('the', 'DT'),\n",
       " ('administration', 'NN'),\n",
       " ('of', 'IN'),\n",
       " ('President', 'NNP'),\n",
       " ('Donald', 'NNP'),\n",
       " ('Trump', 'NNP'),\n",
       " ('would', 'MD'),\n",
       " ('unveil', 'VB'),\n",
       " ('revised', 'VBN'),\n",
       " ('self-driving', 'JJ'),\n",
       " ('car', 'NN'),\n",
       " ('guidelines', 'NNS'),\n",
       " ('in', 'IN'),\n",
       " ('August', 'NNP'),\n",
       " ('as', 'IN'),\n",
       " ('it', 'PRP'),\n",
       " ('sets', 'VBZ'),\n",
       " ('out', 'RP'),\n",
       " ('to', 'TO'),\n",
       " ('rewrite', 'VB'),\n",
       " ('the', 'DT'),\n",
       " ('regulations', 'NNS'),\n",
       " ('The', 'DT'),\n",
       " ('administration', 'NN'),\n",
       " ('wants', 'VBZ'),\n",
       " ('to', 'TO'),\n",
       " ('clarify', 'VB'),\n",
       " ('the', 'DT'),\n",
       " ('federal', 'JJ'),\n",
       " ('versus', 'NN'),\n",
       " ('state', 'NN'),\n",
       " ('role', 'NN'),\n",
       " ('said', 'VBD'),\n",
       " ('Transportation', 'NNP'),\n",
       " ('Under', 'IN'),\n",
       " ('Secretary', 'NNP'),\n",
       " ('Derek', 'NNP'),\n",
       " ('Kan', 'NNP'),\n",
       " ('speaking', 'VBG'),\n",
       " ('on', 'IN'),\n",
       " ('Thursday', 'NNP'),\n",
       " ('at', 'IN'),\n",
       " ('the', 'DT'),\n",
       " ('same', 'JJ'),\n",
       " ('event', 'NN'),\n",
       " ('States', 'NNS'),\n",
       " ('currently', 'RB'),\n",
       " ('regulate', 'VBP'),\n",
       " ('speed', 'NN'),\n",
       " ('limits', 'NNS'),\n",
       " ('and', 'CC'),\n",
       " ('driver', 'RB'),\n",
       " ('behavior', 'VB'),\n",
       " ('like', 'IN'),\n",
       " ('alcohol', 'NN'),\n",
       " ('consumption', 'NN'),\n",
       " ('while', 'IN'),\n",
       " ('the', 'DT'),\n",
       " ('federal', 'JJ'),\n",
       " ('government', 'NN'),\n",
       " ('regulates', 'NNS'),\n",
       " ('vehicle', 'NN'),\n",
       " ('performance', 'NN'),\n",
       " ('“', 'VB'),\n",
       " ('What', 'WP'),\n",
       " ('happens', 'VBZ'),\n",
       " ('when', 'WRB'),\n",
       " ('the', 'DT'),\n",
       " ('driver', 'NN'),\n",
       " ('is', 'VBZ'),\n",
       " ('now', 'RB'),\n",
       " ('part', 'NN'),\n",
       " ('of', 'IN'),\n",
       " ('the', 'DT'),\n",
       " ('machine', 'NN'),\n",
       " ('”', 'JJ'),\n",
       " ('Kan', 'NNP'),\n",
       " ('asked', 'VBD'),\n",
       " ('at', 'IN'),\n",
       " ('the', 'DT'),\n",
       " ('event', 'NN'),\n",
       " ('Federal', 'JJ'),\n",
       " ('policymakers', 'NNS'),\n",
       " ('still', 'RB'),\n",
       " ('must', 'MD'),\n",
       " ('answer', 'VB'),\n",
       " ('at', 'IN'),\n",
       " ('least', 'JJS'),\n",
       " ('10', 'CD'),\n",
       " ('key', 'JJ'),\n",
       " ('self-driving', 'JJ'),\n",
       " ('questions', 'NNS'),\n",
       " ('Kan', 'NNP'),\n",
       " ('added', 'VBD'),\n",
       " ('including', 'VBG'),\n",
       " ('on', 'IN'),\n",
       " ('data', 'NNS'),\n",
       " ('cybersecurity', 'NN'),\n",
       " ('and', 'CC'),\n",
       " ('privacy', 'NN'),\n",
       " ('Bills', 'NNS'),\n",
       " ('in', 'IN'),\n",
       " ('Congress', 'NNP'),\n",
       " ('to', 'TO'),\n",
       " ('speed', 'VB'),\n",
       " ('the', 'DT'),\n",
       " ('introduction', 'NN'),\n",
       " ('of', 'IN'),\n",
       " ('self-driving', 'JJ'),\n",
       " ('cars', 'NNS'),\n",
       " ('do', 'VBP'),\n",
       " ('not', 'RB'),\n",
       " ('include', 'VB'),\n",
       " ('commercial', 'JJ'),\n",
       " ('trucks', 'NNS'),\n",
       " ('and', 'CC'),\n",
       " ('have', 'VBP'),\n",
       " ('stalled', 'VBN'),\n",
       " ('recently', 'RB'),\n",
       " ('over', 'IN'),\n",
       " ('concerns', 'NNS'),\n",
       " ('they', 'PRP'),\n",
       " ('do', 'VBP'),\n",
       " ('not', 'RB'),\n",
       " ('include', 'VB'),\n",
       " ('enough', 'JJ'),\n",
       " ('safeguards', 'NNS'),\n",
       " ('In', 'IN'),\n",
       " ('September', 'NNP'),\n",
       " ('Chao', 'NNP'),\n",
       " ('announced', 'VBD'),\n",
       " ('the', 'DT'),\n",
       " ('first', 'JJ'),\n",
       " ('set', 'NN'),\n",
       " ('of', 'IN'),\n",
       " ('revisions', 'NNS'),\n",
       " ('to', 'TO'),\n",
       " ('guidelines', 'NNS'),\n",
       " ('set', 'VBN'),\n",
       " ('by', 'IN'),\n",
       " ('the', 'DT'),\n",
       " ('administration', 'NN'),\n",
       " ('of', 'IN'),\n",
       " ('former', 'JJ'),\n",
       " ('President', 'NNP'),\n",
       " ('Barack', 'NNP'),\n",
       " ('Obama', 'NNP'),\n",
       " ('Under', 'IN'),\n",
       " ('existing', 'VBG'),\n",
       " ('rules', 'NNS'),\n",
       " ('many', 'JJ'),\n",
       " ('written', 'VBN'),\n",
       " ('with', 'IN'),\n",
       " ('the', 'DT'),\n",
       " ('assumption', 'NN'),\n",
       " ('that', 'IN'),\n",
       " ('a', 'DT'),\n",
       " ('licensed', 'VBN'),\n",
       " ('driver', 'NN'),\n",
       " ('will', 'MD'),\n",
       " ('be', 'VB'),\n",
       " ('in', 'IN'),\n",
       " ('control', 'NN'),\n",
       " ('of', 'IN'),\n",
       " ('the', 'DT'),\n",
       " ('vehicle', 'NN'),\n",
       " ('automakers', 'NNS'),\n",
       " ('must', 'MD'),\n",
       " ('meet', 'VB'),\n",
       " ('nearly', 'RB'),\n",
       " ('75', 'CD'),\n",
       " ('safety', 'NN'),\n",
       " ('standards', 'NNS'),\n",
       " ('NHTSA', 'NNP'),\n",
       " ('said', 'VBD'),\n",
       " ('in', 'IN'),\n",
       " ('2016', 'CD'),\n",
       " ('that', 'IN'),\n",
       " ('the', 'DT'),\n",
       " ('regulations', 'NNS'),\n",
       " ('posed', 'VBD'),\n",
       " ('“', 'JJ'),\n",
       " ('significant', 'JJ'),\n",
       " ('”', 'NN'),\n",
       " ('hurdles', 'NNS'),\n",
       " ('to', 'TO'),\n",
       " ('vehicles', 'NNS'),\n",
       " ('without', 'IN'),\n",
       " ('human', 'JJ'),\n",
       " ('controls', 'NNS'),\n",
       " ('The', 'DT'),\n",
       " ('Federal', 'NNP'),\n",
       " ('Transit', 'NNP'),\n",
       " ('Administration', 'NNP'),\n",
       " ('recently', 'RB'),\n",
       " ('sought', 'VBD'),\n",
       " ('public', 'JJ'),\n",
       " ('input', 'NN'),\n",
       " ('on', 'IN'),\n",
       " ('autonomous', 'JJ'),\n",
       " ('bus', 'NN'),\n",
       " ('technology', 'NN'),\n",
       " ('and', 'CC'),\n",
       " ('regulatory', 'JJ'),\n",
       " ('barriers', 'NNS'),\n",
       " ('while', 'IN'),\n",
       " ('the', 'DT'),\n",
       " ('Federal', 'NNP'),\n",
       " ('Highway', 'NNP'),\n",
       " ('Administration', 'NNP'),\n",
       " ('sought', 'VBD'),\n",
       " ('views', 'NNS'),\n",
       " ('on', 'IN'),\n",
       " ('how', 'WRB'),\n",
       " ('U.S.', 'NNP'),\n",
       " ('roads', 'VBZ'),\n",
       " ('must', 'MD'),\n",
       " ('adapt', 'VB'),\n",
       " ('to', 'TO'),\n",
       " ('autonomous', 'JJ'),\n",
       " ('technology', 'NN'),\n",
       " ('In', 'IN'),\n",
       " ('January', 'NNP'),\n",
       " ('GM', 'NNP'),\n",
       " ('filed', 'VBD'),\n",
       " ('a', 'DT'),\n",
       " ('petition', 'NN'),\n",
       " ('with', 'IN'),\n",
       " ('NHTSA', 'NNP'),\n",
       " ('requesting', 'VBG'),\n",
       " ('an', 'DT'),\n",
       " ('exemption', 'NN'),\n",
       " ('for', 'IN'),\n",
       " ('a', 'DT'),\n",
       " ('small', 'JJ'),\n",
       " ('number', 'NN'),\n",
       " ('of', 'IN'),\n",
       " ('autonomous', 'JJ'),\n",
       " ('vehicles', 'NNS'),\n",
       " ('in', 'IN'),\n",
       " ('a', 'DT'),\n",
       " ('ride-share', 'JJ'),\n",
       " ('program', 'NN'),\n",
       " ('without', 'IN'),\n",
       " ('steering', 'VBG'),\n",
       " ('wheels', 'NNS'),\n",
       " ('or', 'CC'),\n",
       " ('human', 'JJ'),\n",
       " ('drivers', 'NNS'),\n",
       " ('The', 'DT'),\n",
       " ('department', 'NN'),\n",
       " ('has', 'VBZ'),\n",
       " ('still', 'RB'),\n",
       " ('not', 'RB'),\n",
       " ('determined', 'VBN'),\n",
       " ('whether', 'IN'),\n",
       " ('that', 'DT'),\n",
       " ('petition', 'NN'),\n",
       " ('is', 'VBZ'),\n",
       " ('“', 'JJ'),\n",
       " ('complete', 'JJ'),\n",
       " ('”', 'NN'),\n",
       " ('before', 'IN'),\n",
       " ('deciding', 'VBG'),\n",
       " ('whether', 'IN'),\n",
       " ('to', 'TO'),\n",
       " ('approve', 'VB'),\n",
       " ('it', 'PRP'),\n",
       " ('Reporting', 'VBG'),\n",
       " ('by', 'IN'),\n",
       " ('David', 'NNP'),\n",
       " ('Shepardson', 'NNP'),\n",
       " ('Editing', 'NNP'),\n",
       " ('by', 'IN'),\n",
       " ('Rosalba', 'NNP'),\n",
       " (\"O'Brien\", 'NNP'),\n",
       " ('All', 'NNP'),\n",
       " ('quotes', 'VBZ'),\n",
       " ('delayed', 'VBD'),\n",
       " ('a', 'DT'),\n",
       " ('minimum', 'NN'),\n",
       " ('of', 'IN'),\n",
       " ('15', 'CD'),\n",
       " ('minutes', 'NNS'),\n",
       " ('See', 'VB'),\n",
       " ('here', 'RB'),\n",
       " ('for', 'IN'),\n",
       " ('a', 'DT'),\n",
       " ('complete', 'JJ'),\n",
       " ('list', 'NN'),\n",
       " ('of', 'IN'),\n",
       " ('exchanges', 'NNS'),\n",
       " ('and', 'CC'),\n",
       " ('delays', 'NNS')]"
      ]
     },
     "execution_count": 7,
     "metadata": {},
     "output_type": "execute_result"
    }
   ],
   "source": [
    "blob.tags"
   ]
  },
  {
   "cell_type": "markdown",
   "metadata": {},
   "source": [
    "**Print out noun phrases:**"
   ]
  },
  {
   "cell_type": "code",
   "execution_count": 8,
   "metadata": {},
   "outputs": [
    {
     "data": {
      "text/plain": [
       "WordList(['washington', 'reuters', 'u.s.', 'transportation secretary', 'elaine chao', 'public input', 'commercial vehicles', 'administration grapples', 'future use', 'washington', 'chao', 'federal motor', 'carrier safety', 'public comment', '“ facilitate', 'safe introduction', 'commercial motor vehicles ”', 'large trucks', 'federal railroad administration “', 'railroad industry. ” officials', 'impact ports', 'transportation issues', 'motors co', 'alphabet inc', 'car technologies', 'congress', 'legal barriers', 'chao', 'u.s.', 'national highway traffic', 'safety', 'nhtsa', 'donald trump', 'car guidelines', 'august', 'federal versus state role', 'derek kan', 'speed limits', 'driver behavior', 'alcohol consumption', 'federal government regulates vehicle performance', 'kan', 'federal policymakers', 'kan', 'congress', 'commercial trucks', 'september', 'chao', 'barack obama', 'safety standards', 'nhtsa', 'significant ” hurdles', 'transit', 'public input', 'autonomous bus technology', 'regulatory barriers', 'federal highway administration', 'u.s.', 'autonomous technology', 'january', 'gm', 'nhtsa', 'small number', 'autonomous vehicles', 'ride-share program', 'human drivers', 'complete ”', 'reporting', 'david shepardson', 'editing', \"rosalba o'brien\", 'complete list'])"
      ]
     },
     "execution_count": 8,
     "metadata": {},
     "output_type": "execute_result"
    }
   ],
   "source": [
    "blob.noun_phrases"
   ]
  },
  {
   "cell_type": "markdown",
   "metadata": {},
   "source": [
    "**Print sentiment polarity for this example:**"
   ]
  },
  {
   "cell_type": "code",
   "execution_count": 9,
   "metadata": {},
   "outputs": [
    {
     "name": "stdout",
     "output_type": "stream",
     "text": [
      "-0.025, 0.17857142857142858, -0.0625, 0.15625, 0.0, 0.0, 0.1, 0.0, 0.0, -0.15, 0.0, 0.125, 0.3, 0.1875, 0.2, 0.05000000000000001, 0.1, 0.0, 0.1, "
     ]
    }
   ],
   "source": [
    "for sentence in blob.sentences:\n",
    "    print(sentence.sentiment.polarity, end = \", \")"
   ]
  },
  {
   "cell_type": "markdown",
   "metadata": {},
   "source": [
    "**Print sentiment for entire document:**"
   ]
  },
  {
   "cell_type": "code",
   "execution_count": 10,
   "metadata": {},
   "outputs": [
    {
     "data": {
      "text/plain": [
       "Sentiment(polarity=0.08919172932330827, subjectivity=0.33847117794486214)"
      ]
     },
     "execution_count": 10,
     "metadata": {},
     "output_type": "execute_result"
    }
   ],
   "source": [
    "blob.sentiment"
   ]
  },
  {
   "cell_type": "markdown",
   "metadata": {},
   "source": [
    "**Print sentiment polarity for entire document:**"
   ]
  },
  {
   "cell_type": "code",
   "execution_count": 11,
   "metadata": {},
   "outputs": [
    {
     "data": {
      "text/plain": [
       "0.08919172932330827"
      ]
     },
     "execution_count": 11,
     "metadata": {},
     "output_type": "execute_result"
    }
   ],
   "source": [
    "blob.sentiment.polarity"
   ]
  },
  {
   "cell_type": "markdown",
   "metadata": {},
   "source": [
    "**Print sentiment subjectivity for entire document:**"
   ]
  },
  {
   "cell_type": "code",
   "execution_count": 12,
   "metadata": {},
   "outputs": [
    {
     "data": {
      "text/plain": [
       "0.33847117794486214"
      ]
     },
     "execution_count": 12,
     "metadata": {},
     "output_type": "execute_result"
    }
   ],
   "source": [
    "blob.sentiment.subjectivity"
   ]
  },
  {
   "cell_type": "markdown",
   "metadata": {},
   "source": [
    "**Define functions to calculate polarity and subjectivity for input text:**"
   ]
  },
  {
   "cell_type": "code",
   "execution_count": 13,
   "metadata": {},
   "outputs": [],
   "source": [
    "def TB_Polarity (text):\n",
    "    text_ = str(text)[:500]\n",
    "    try:\n",
    "        tb_polarity = TextBlob(text_).sentiment.polarity\n",
    "    except:\n",
    "        tb_polarity = -200.0\n",
    "    return tb_polarity"
   ]
  },
  {
   "cell_type": "code",
   "execution_count": 14,
   "metadata": {},
   "outputs": [],
   "source": [
    "def TB_Subjectivity (text):\n",
    "    text_ = str(text)[:500]\n",
    "    try:\n",
    "        tb_subjectivity = TextBlob(text_).sentiment.subjectivity\n",
    "        tb_subjectivity\n",
    "    except:\n",
    "        tb_subjectivity = -200.0\n",
    "    return tb_subjectivity"
   ]
  },
  {
   "cell_type": "markdown",
   "metadata": {},
   "source": [
    "**Calculate polarity and subjectivity for all records:**"
   ]
  },
  {
   "cell_type": "code",
   "execution_count": 15,
   "metadata": {},
   "outputs": [
    {
     "name": "stdout",
     "output_type": "stream",
     "text": [
      "CPU times: user 2.78 s, sys: 15.6 ms, total: 2.8 s\n",
      "Wall time: 2.86 s\n"
     ]
    }
   ],
   "source": [
    "%time df['tb_polarity'] = df['text'].apply(TB_Polarity)"
   ]
  },
  {
   "cell_type": "code",
   "execution_count": 16,
   "metadata": {},
   "outputs": [],
   "source": [
    "df_tb_polarity01  = df[ (df.tb_polarity > -100) & ((df.label == 0) | (df.label == 1)) ]"
   ]
  },
  {
   "cell_type": "code",
   "execution_count": 17,
   "metadata": {},
   "outputs": [],
   "source": [
    "bydatedf_tb_polarity01 = df_tb_polarity01.groupby(['Date']).mean()"
   ]
  },
  {
   "cell_type": "code",
   "execution_count": 18,
   "metadata": {},
   "outputs": [
    {
     "data": {
      "image/png": "[encoded data removed]",
      "text/plain": [
       "<Figure size 1080x432 with 1 Axes>"
      ]
     },
     "metadata": {
      "needs_background": "light"
     },
     "output_type": "display_data"
    }
   ],
   "source": [
    "axe = bydatedf_tb_polarity01[['tb_polarity']].resample(\"1d\").mean().plot(figsize=(15,6), marker='o')\n",
    "axe.vlines(pd.Timestamp('2018-03-18'), 0.2, -0.0, linestyles='dashed', color='black')\n",
    "axe.set_ylabel('Polarity', fontsize=14)\n",
    "axe.set_xlabel('Date', fontsize=14)\n",
    "axe.set_title('Sentiment Polarity with TextBlob', fontsize=20)\n",
    "axe.legend([\"TextBlob Polarity\"], fontsize=20)\n",
    "axe.grid()\n",
    "plt.savefig(\"TB_Polarity_March2018.png\")"
   ]
  },
  {
   "cell_type": "code",
   "execution_count": 19,
   "metadata": {},
   "outputs": [
    {
     "data": {
      "text/plain": [
       "(491, 14)"
      ]
     },
     "execution_count": 19,
     "metadata": {},
     "output_type": "execute_result"
    }
   ],
   "source": [
    "df_tb_polarity01[ df_tb_polarity01['Date'] < pd.Timestamp('2018-03-18') ].shape"
   ]
  },
  {
   "cell_type": "code",
   "execution_count": 20,
   "metadata": {},
   "outputs": [
    {
     "data": {
      "text/plain": [
       "(2048, 14)"
      ]
     },
     "execution_count": 20,
     "metadata": {},
     "output_type": "execute_result"
    }
   ],
   "source": [
    "df_tb_polarity01[ df_tb_polarity01['Date'] >= pd.Timestamp('2018-03-18') ].shape"
   ]
  },
  {
   "cell_type": "code",
   "execution_count": 27,
   "metadata": {},
   "outputs": [
    {
     "data": {
      "image/png": "[encoded data removed]",
      "text/plain": [
       "<Figure size 720x720 with 1 Axes>"
      ]
     },
     "metadata": {
      "needs_background": "light"
     },
     "output_type": "display_data"
    }
   ],
   "source": [
    "plt.hist(df_tb_polarity01[ df_tb_polarity01['Date'] < pd.Timestamp('2018-03-18') ]['tb_polarity'], bins=30, density=True)\n",
    "plt.hist(df_tb_polarity01[ df_tb_polarity01['Date'] >= pd.Timestamp('2018-03-18') ]['tb_polarity'], bins=30, density=True, color=\"orange\", alpha=0.5)\n",
    "plt.xlabel('TextBlob Polarity', fontsize=14)\n",
    "plt.ylabel('Normalized Frequency', fontsize=14)\n",
    "plt.title('Distributions of TextBlob Sentiment Polarity',fontsize=20)\n",
    "plt.legend([\"before March 18 2018\",\"after March 18 2018\"],fontsize=20)\n",
    "plt.savefig(\"TB_PolarityHist_March2018.png\")\n",
    "plt.show()"
   ]
  },
  {
   "cell_type": "code",
   "execution_count": 22,
   "metadata": {},
   "outputs": [
    {
     "name": "stdout",
     "output_type": "stream",
     "text": [
      "CPU times: user 2.52 s, sys: 0 ns, total: 2.52 s\n",
      "Wall time: 2.55 s\n"
     ]
    }
   ],
   "source": [
    "%time df['tb_subjectivity'] = df['text'].apply(TB_Subjectivity)"
   ]
  },
  {
   "cell_type": "code",
   "execution_count": 23,
   "metadata": {},
   "outputs": [],
   "source": [
    "df_tb_subjectivity = df[ (df.tb_subjectivity > -100) & ((df.label == 0) | (df.label == 1)) ]"
   ]
  },
  {
   "cell_type": "code",
   "execution_count": 24,
   "metadata": {},
   "outputs": [],
   "source": [
    "bydatedf_tb_subjectivity=df_tb_subjectivity.groupby(['Date']).mean()"
   ]
  },
  {
   "cell_type": "code",
   "execution_count": 25,
   "metadata": {},
   "outputs": [
    {
     "data": {
      "image/png": "[encoded data removed]",
      "text/plain": [
       "<Figure size 1080x432 with 1 Axes>"
      ]
     },
     "metadata": {
      "needs_background": "light"
     },
     "output_type": "display_data"
    }
   ],
   "source": [
    "axe = bydatedf_tb_subjectivity[['tb_subjectivity']].resample(\"1d\").median().plot(figsize=(15,6), marker='o')\n",
    "axe.vlines(pd.Timestamp('2018-03-18'), 0.6, 0.0, linestyles='dashed', color='black')\n",
    "axe.set_ylabel('Subjectivity', fontsize=14)\n",
    "axe.set_xlabel('Date', fontsize=14)\n",
    "axe.set_title('Sentiment Subjectivity with TextBlob', fontsize=20)\n",
    "axe.legend([\"TextBlob Subjectivity\"], fontsize=20)\n",
    "axe.grid()\n",
    "plt.savefig(\"TB_Subjectivity_March2018.png\")"
   ]
  },
  {
   "cell_type": "code",
   "execution_count": null,
   "metadata": {},
   "outputs": [],
   "source": []
  }
 ],
 "metadata": {
  "kernelspec": {
   "display_name": "Python 3",
   "language": "python",
   "name": "python3"
  },
  "language_info": {
   "codemirror_mode": {
    "name": "ipython",
    "version": 3
   },
   "file_extension": ".py",
   "mimetype": "text/x-python",
   "name": "python",
   "nbconvert_exporter": "python",
   "pygments_lexer": "ipython3",
   "version": "3.7.5"
  }
 },
 "nbformat": 4,
 "nbformat_minor": 4
}
